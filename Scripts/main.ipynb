{
 "cells": [
  {
   "cell_type": "code",
   "execution_count": 2,
   "metadata": {},
   "outputs": [],
   "source": [
    "import pandas as pd\n",
    "import numpy as np\n",
    "import matplotlib.pyplot as plt\n",
    "import seaborn as sns"
   ]
  },
  {
   "cell_type": "code",
   "execution_count": 3,
   "metadata": {},
   "outputs": [
    {
     "data": {
      "text/html": [
       "<div>\n",
       "<style scoped>\n",
       "    .dataframe tbody tr th:only-of-type {\n",
       "        vertical-align: middle;\n",
       "    }\n",
       "\n",
       "    .dataframe tbody tr th {\n",
       "        vertical-align: top;\n",
       "    }\n",
       "\n",
       "    .dataframe thead th {\n",
       "        text-align: right;\n",
       "    }\n",
       "</style>\n",
       "<table border=\"1\" class=\"dataframe\">\n",
       "  <thead>\n",
       "    <tr style=\"text-align: right;\">\n",
       "      <th></th>\n",
       "      <th>Q1A</th>\n",
       "      <th>Q1I</th>\n",
       "      <th>Q1E</th>\n",
       "      <th>Q2A</th>\n",
       "      <th>Q2I</th>\n",
       "      <th>Q2E</th>\n",
       "      <th>Q3A</th>\n",
       "      <th>Q3I</th>\n",
       "      <th>Q3E</th>\n",
       "      <th>Q4A</th>\n",
       "      <th>...</th>\n",
       "      <th>screensize</th>\n",
       "      <th>uniquenetworklocation</th>\n",
       "      <th>hand</th>\n",
       "      <th>religion</th>\n",
       "      <th>orientation</th>\n",
       "      <th>race</th>\n",
       "      <th>voted</th>\n",
       "      <th>married</th>\n",
       "      <th>familysize</th>\n",
       "      <th>major</th>\n",
       "    </tr>\n",
       "  </thead>\n",
       "  <tbody>\n",
       "    <tr>\n",
       "      <th>0</th>\n",
       "      <td>4</td>\n",
       "      <td>28</td>\n",
       "      <td>3890</td>\n",
       "      <td>4</td>\n",
       "      <td>25</td>\n",
       "      <td>2122</td>\n",
       "      <td>2</td>\n",
       "      <td>16</td>\n",
       "      <td>1944</td>\n",
       "      <td>4</td>\n",
       "      <td>...</td>\n",
       "      <td>1</td>\n",
       "      <td>1</td>\n",
       "      <td>1</td>\n",
       "      <td>12</td>\n",
       "      <td>1</td>\n",
       "      <td>10</td>\n",
       "      <td>2</td>\n",
       "      <td>1</td>\n",
       "      <td>2</td>\n",
       "      <td>NaN</td>\n",
       "    </tr>\n",
       "    <tr>\n",
       "      <th>1</th>\n",
       "      <td>4</td>\n",
       "      <td>2</td>\n",
       "      <td>8118</td>\n",
       "      <td>1</td>\n",
       "      <td>36</td>\n",
       "      <td>2890</td>\n",
       "      <td>2</td>\n",
       "      <td>35</td>\n",
       "      <td>4777</td>\n",
       "      <td>3</td>\n",
       "      <td>...</td>\n",
       "      <td>2</td>\n",
       "      <td>1</td>\n",
       "      <td>2</td>\n",
       "      <td>7</td>\n",
       "      <td>0</td>\n",
       "      <td>70</td>\n",
       "      <td>2</td>\n",
       "      <td>1</td>\n",
       "      <td>4</td>\n",
       "      <td>NaN</td>\n",
       "    </tr>\n",
       "    <tr>\n",
       "      <th>2</th>\n",
       "      <td>3</td>\n",
       "      <td>7</td>\n",
       "      <td>5784</td>\n",
       "      <td>1</td>\n",
       "      <td>33</td>\n",
       "      <td>4373</td>\n",
       "      <td>4</td>\n",
       "      <td>41</td>\n",
       "      <td>3242</td>\n",
       "      <td>1</td>\n",
       "      <td>...</td>\n",
       "      <td>2</td>\n",
       "      <td>1</td>\n",
       "      <td>1</td>\n",
       "      <td>4</td>\n",
       "      <td>3</td>\n",
       "      <td>60</td>\n",
       "      <td>1</td>\n",
       "      <td>1</td>\n",
       "      <td>3</td>\n",
       "      <td>NaN</td>\n",
       "    </tr>\n",
       "    <tr>\n",
       "      <th>3</th>\n",
       "      <td>2</td>\n",
       "      <td>23</td>\n",
       "      <td>5081</td>\n",
       "      <td>3</td>\n",
       "      <td>11</td>\n",
       "      <td>6837</td>\n",
       "      <td>2</td>\n",
       "      <td>37</td>\n",
       "      <td>5521</td>\n",
       "      <td>1</td>\n",
       "      <td>...</td>\n",
       "      <td>2</td>\n",
       "      <td>1</td>\n",
       "      <td>2</td>\n",
       "      <td>4</td>\n",
       "      <td>5</td>\n",
       "      <td>70</td>\n",
       "      <td>2</td>\n",
       "      <td>1</td>\n",
       "      <td>5</td>\n",
       "      <td>biology</td>\n",
       "    </tr>\n",
       "    <tr>\n",
       "      <th>4</th>\n",
       "      <td>2</td>\n",
       "      <td>36</td>\n",
       "      <td>3215</td>\n",
       "      <td>2</td>\n",
       "      <td>13</td>\n",
       "      <td>7731</td>\n",
       "      <td>3</td>\n",
       "      <td>5</td>\n",
       "      <td>4156</td>\n",
       "      <td>4</td>\n",
       "      <td>...</td>\n",
       "      <td>2</td>\n",
       "      <td>2</td>\n",
       "      <td>3</td>\n",
       "      <td>10</td>\n",
       "      <td>1</td>\n",
       "      <td>10</td>\n",
       "      <td>2</td>\n",
       "      <td>1</td>\n",
       "      <td>4</td>\n",
       "      <td>Psychology</td>\n",
       "    </tr>\n",
       "  </tbody>\n",
       "</table>\n",
       "<p>5 rows × 172 columns</p>\n",
       "</div>"
      ],
      "text/plain": [
       "   Q1A  Q1I   Q1E  Q2A  Q2I   Q2E  Q3A  Q3I   Q3E  Q4A  ...  screensize  \\\n",
       "0    4   28  3890    4   25  2122    2   16  1944    4  ...           1   \n",
       "1    4    2  8118    1   36  2890    2   35  4777    3  ...           2   \n",
       "2    3    7  5784    1   33  4373    4   41  3242    1  ...           2   \n",
       "3    2   23  5081    3   11  6837    2   37  5521    1  ...           2   \n",
       "4    2   36  3215    2   13  7731    3    5  4156    4  ...           2   \n",
       "\n",
       "   uniquenetworklocation  hand  religion  orientation  race  voted  married  \\\n",
       "0                      1     1        12            1    10      2        1   \n",
       "1                      1     2         7            0    70      2        1   \n",
       "2                      1     1         4            3    60      1        1   \n",
       "3                      1     2         4            5    70      2        1   \n",
       "4                      2     3        10            1    10      2        1   \n",
       "\n",
       "   familysize       major  \n",
       "0           2         NaN  \n",
       "1           4         NaN  \n",
       "2           3         NaN  \n",
       "3           5     biology  \n",
       "4           4  Psychology  \n",
       "\n",
       "[5 rows x 172 columns]"
      ]
     },
     "execution_count": 3,
     "metadata": {},
     "output_type": "execute_result"
    }
   ],
   "source": [
    "data = pd.read_csv(\"/Users/aryanmanchanda/Projects/aura-check/Data/DASS Responses/data.csv\", delimiter=\"\\t\")\n",
    "data.head()"
   ]
  },
  {
   "cell_type": "code",
   "execution_count": 4,
   "metadata": {},
   "outputs": [],
   "source": [
    "questions = []\n",
    "for i in data.columns:\n",
    "    if i.startswith(\"Q\") and i.endswith(\"A\"):\n",
    "        questions.append(i)"
   ]
  },
  {
   "cell_type": "code",
   "execution_count": 5,
   "metadata": {},
   "outputs": [
    {
     "data": {
      "text/plain": [
       "['Q1A',\n",
       " 'Q2A',\n",
       " 'Q3A',\n",
       " 'Q4A',\n",
       " 'Q5A',\n",
       " 'Q6A',\n",
       " 'Q7A',\n",
       " 'Q8A',\n",
       " 'Q9A',\n",
       " 'Q10A',\n",
       " 'Q11A',\n",
       " 'Q12A',\n",
       " 'Q13A',\n",
       " 'Q14A',\n",
       " 'Q15A',\n",
       " 'Q16A',\n",
       " 'Q17A',\n",
       " 'Q18A',\n",
       " 'Q19A',\n",
       " 'Q20A',\n",
       " 'Q21A',\n",
       " 'Q22A',\n",
       " 'Q23A',\n",
       " 'Q24A',\n",
       " 'Q25A',\n",
       " 'Q26A',\n",
       " 'Q27A',\n",
       " 'Q28A',\n",
       " 'Q29A',\n",
       " 'Q30A',\n",
       " 'Q31A',\n",
       " 'Q32A',\n",
       " 'Q33A',\n",
       " 'Q34A',\n",
       " 'Q35A',\n",
       " 'Q36A',\n",
       " 'Q37A',\n",
       " 'Q38A',\n",
       " 'Q39A',\n",
       " 'Q40A',\n",
       " 'Q41A',\n",
       " 'Q42A']"
      ]
     },
     "execution_count": 5,
     "metadata": {},
     "output_type": "execute_result"
    }
   ],
   "source": [
    "questions"
   ]
  },
  {
   "cell_type": "code",
   "execution_count": 6,
   "metadata": {},
   "outputs": [],
   "source": [
    "depression_questions = [\"Q3A\", \"Q5A\", \"Q10A\", \"Q13A\", \"Q16A\", \"Q17A\", \"Q21A\", \"Q24A\", \"Q26A\", \"Q31A\", \"Q34A\",\"Q37A\", \"Q38A\", \"Q42A\"]\n",
    "anxiety_questions = [\"Q2A\", \"Q4A\", \"Q7A\", \"Q9A\", \"Q15A\", \"Q19A\", \"Q20A\", \"Q23A\", \"Q25A\", \"Q28A\", \"Q30A\", \"Q36A\", \"Q40A\", \"Q41A\"]\n",
    "stress_questions = [\"Q1A\", \"Q6A\", \"Q8A\", \"Q11A\", \"Q12A\", \"Q14A\", \"Q18A\", \"Q22A\", \"Q27A\", \"Q29A\", \"Q32A\", \"Q33A\", \"Q35A\", \"Q39A\"]\n",
    "\n",
    "words = [\"VCL1\", \"VCL2\", \"VCL3\", \"VCL4\",\"VCL5\", \"VCL7\", \"VCL8\", \"VCL10\", \"VCL11\", \"VCL13\", \"VCL14\", \"VCL15\", \"VCL16\"]"
   ]
  },
  {
   "cell_type": "code",
   "execution_count": 7,
   "metadata": {},
   "outputs": [],
   "source": [
    "data[\"depression_score\"] = data[depression_questions].sum(axis =1)\n",
    "data[\"anxiety_score\"] = data[anxiety_questions].sum(axis=1)\n",
    "data[\"stress_score\"] = data[stress_questions].sum(axis=1)\n",
    "\n",
    "data[\"extraversion\"] = data[\"TIPI1\"] - data[\"TIPI6\"]\n",
    "data[\"agreeableness\"] = data[\"TIPI7\"] - data[\"TIPI2\"]\n",
    "data[\"conscientiousness\"] = data[\"TIPI3\"] - data[\"TIPI8\"]\n",
    "data[\"emotional_stability\"] = data[\"TIPI9\"] - data[\"TIPI4\"]\n",
    "data[\"openness\"] = data[\"TIPI5\"] - data[\"TIPI10\"]"
   ]
  },
  {
   "cell_type": "code",
   "execution_count": 8,
   "metadata": {},
   "outputs": [
    {
     "data": {
      "text/html": [
       "<div>\n",
       "<style scoped>\n",
       "    .dataframe tbody tr th:only-of-type {\n",
       "        vertical-align: middle;\n",
       "    }\n",
       "\n",
       "    .dataframe tbody tr th {\n",
       "        vertical-align: top;\n",
       "    }\n",
       "\n",
       "    .dataframe thead th {\n",
       "        text-align: right;\n",
       "    }\n",
       "</style>\n",
       "<table border=\"1\" class=\"dataframe\">\n",
       "  <thead>\n",
       "    <tr style=\"text-align: right;\">\n",
       "      <th></th>\n",
       "      <th>Q1A</th>\n",
       "      <th>Q1I</th>\n",
       "      <th>Q1E</th>\n",
       "      <th>Q2A</th>\n",
       "      <th>Q2I</th>\n",
       "      <th>Q2E</th>\n",
       "      <th>Q3A</th>\n",
       "      <th>Q3I</th>\n",
       "      <th>Q3E</th>\n",
       "      <th>Q4A</th>\n",
       "      <th>...</th>\n",
       "      <th>familysize</th>\n",
       "      <th>major</th>\n",
       "      <th>depression_score</th>\n",
       "      <th>anxiety_score</th>\n",
       "      <th>stress_score</th>\n",
       "      <th>extraversion</th>\n",
       "      <th>agreeableness</th>\n",
       "      <th>conscientiousness</th>\n",
       "      <th>emotional_stability</th>\n",
       "      <th>openness</th>\n",
       "    </tr>\n",
       "  </thead>\n",
       "  <tbody>\n",
       "    <tr>\n",
       "      <th>0</th>\n",
       "      <td>4</td>\n",
       "      <td>28</td>\n",
       "      <td>3890</td>\n",
       "      <td>4</td>\n",
       "      <td>25</td>\n",
       "      <td>2122</td>\n",
       "      <td>2</td>\n",
       "      <td>16</td>\n",
       "      <td>1944</td>\n",
       "      <td>4</td>\n",
       "      <td>...</td>\n",
       "      <td>2</td>\n",
       "      <td>NaN</td>\n",
       "      <td>41</td>\n",
       "      <td>48</td>\n",
       "      <td>54</td>\n",
       "      <td>-6</td>\n",
       "      <td>2</td>\n",
       "      <td>2</td>\n",
       "      <td>-6</td>\n",
       "      <td>6</td>\n",
       "    </tr>\n",
       "    <tr>\n",
       "      <th>1</th>\n",
       "      <td>4</td>\n",
       "      <td>2</td>\n",
       "      <td>8118</td>\n",
       "      <td>1</td>\n",
       "      <td>36</td>\n",
       "      <td>2890</td>\n",
       "      <td>2</td>\n",
       "      <td>35</td>\n",
       "      <td>4777</td>\n",
       "      <td>3</td>\n",
       "      <td>...</td>\n",
       "      <td>4</td>\n",
       "      <td>NaN</td>\n",
       "      <td>38</td>\n",
       "      <td>31</td>\n",
       "      <td>41</td>\n",
       "      <td>2</td>\n",
       "      <td>2</td>\n",
       "      <td>-3</td>\n",
       "      <td>-6</td>\n",
       "      <td>0</td>\n",
       "    </tr>\n",
       "    <tr>\n",
       "      <th>2</th>\n",
       "      <td>3</td>\n",
       "      <td>7</td>\n",
       "      <td>5784</td>\n",
       "      <td>1</td>\n",
       "      <td>33</td>\n",
       "      <td>4373</td>\n",
       "      <td>4</td>\n",
       "      <td>41</td>\n",
       "      <td>3242</td>\n",
       "      <td>1</td>\n",
       "      <td>...</td>\n",
       "      <td>3</td>\n",
       "      <td>NaN</td>\n",
       "      <td>53</td>\n",
       "      <td>26</td>\n",
       "      <td>31</td>\n",
       "      <td>-4</td>\n",
       "      <td>0</td>\n",
       "      <td>-3</td>\n",
       "      <td>1</td>\n",
       "      <td>3</td>\n",
       "    </tr>\n",
       "    <tr>\n",
       "      <th>3</th>\n",
       "      <td>2</td>\n",
       "      <td>23</td>\n",
       "      <td>5081</td>\n",
       "      <td>3</td>\n",
       "      <td>11</td>\n",
       "      <td>6837</td>\n",
       "      <td>2</td>\n",
       "      <td>37</td>\n",
       "      <td>5521</td>\n",
       "      <td>1</td>\n",
       "      <td>...</td>\n",
       "      <td>5</td>\n",
       "      <td>biology</td>\n",
       "      <td>30</td>\n",
       "      <td>31</td>\n",
       "      <td>30</td>\n",
       "      <td>-3</td>\n",
       "      <td>5</td>\n",
       "      <td>6</td>\n",
       "      <td>2</td>\n",
       "      <td>5</td>\n",
       "    </tr>\n",
       "    <tr>\n",
       "      <th>4</th>\n",
       "      <td>2</td>\n",
       "      <td>36</td>\n",
       "      <td>3215</td>\n",
       "      <td>2</td>\n",
       "      <td>13</td>\n",
       "      <td>7731</td>\n",
       "      <td>3</td>\n",
       "      <td>5</td>\n",
       "      <td>4156</td>\n",
       "      <td>4</td>\n",
       "      <td>...</td>\n",
       "      <td>4</td>\n",
       "      <td>Psychology</td>\n",
       "      <td>46</td>\n",
       "      <td>54</td>\n",
       "      <td>43</td>\n",
       "      <td>-3</td>\n",
       "      <td>0</td>\n",
       "      <td>-3</td>\n",
       "      <td>-3</td>\n",
       "      <td>2</td>\n",
       "    </tr>\n",
       "    <tr>\n",
       "      <th>5</th>\n",
       "      <td>1</td>\n",
       "      <td>18</td>\n",
       "      <td>6116</td>\n",
       "      <td>1</td>\n",
       "      <td>28</td>\n",
       "      <td>3193</td>\n",
       "      <td>2</td>\n",
       "      <td>2</td>\n",
       "      <td>12542</td>\n",
       "      <td>1</td>\n",
       "      <td>...</td>\n",
       "      <td>4</td>\n",
       "      <td>NaN</td>\n",
       "      <td>27</td>\n",
       "      <td>20</td>\n",
       "      <td>26</td>\n",
       "      <td>-5</td>\n",
       "      <td>6</td>\n",
       "      <td>4</td>\n",
       "      <td>5</td>\n",
       "      <td>0</td>\n",
       "    </tr>\n",
       "    <tr>\n",
       "      <th>6</th>\n",
       "      <td>1</td>\n",
       "      <td>20</td>\n",
       "      <td>4325</td>\n",
       "      <td>1</td>\n",
       "      <td>34</td>\n",
       "      <td>4009</td>\n",
       "      <td>2</td>\n",
       "      <td>38</td>\n",
       "      <td>3604</td>\n",
       "      <td>3</td>\n",
       "      <td>...</td>\n",
       "      <td>4</td>\n",
       "      <td>Mechatronics engeenerieng</td>\n",
       "      <td>45</td>\n",
       "      <td>33</td>\n",
       "      <td>28</td>\n",
       "      <td>0</td>\n",
       "      <td>1</td>\n",
       "      <td>3</td>\n",
       "      <td>0</td>\n",
       "      <td>-2</td>\n",
       "    </tr>\n",
       "    <tr>\n",
       "      <th>7</th>\n",
       "      <td>1</td>\n",
       "      <td>34</td>\n",
       "      <td>4796</td>\n",
       "      <td>1</td>\n",
       "      <td>9</td>\n",
       "      <td>2618</td>\n",
       "      <td>1</td>\n",
       "      <td>39</td>\n",
       "      <td>5823</td>\n",
       "      <td>1</td>\n",
       "      <td>...</td>\n",
       "      <td>2</td>\n",
       "      <td>Music</td>\n",
       "      <td>18</td>\n",
       "      <td>18</td>\n",
       "      <td>20</td>\n",
       "      <td>5</td>\n",
       "      <td>0</td>\n",
       "      <td>1</td>\n",
       "      <td>0</td>\n",
       "      <td>1</td>\n",
       "    </tr>\n",
       "    <tr>\n",
       "      <th>8</th>\n",
       "      <td>4</td>\n",
       "      <td>4</td>\n",
       "      <td>3470</td>\n",
       "      <td>4</td>\n",
       "      <td>14</td>\n",
       "      <td>2139</td>\n",
       "      <td>3</td>\n",
       "      <td>1</td>\n",
       "      <td>11043</td>\n",
       "      <td>4</td>\n",
       "      <td>...</td>\n",
       "      <td>4</td>\n",
       "      <td>Psychology</td>\n",
       "      <td>49</td>\n",
       "      <td>53</td>\n",
       "      <td>47</td>\n",
       "      <td>-6</td>\n",
       "      <td>2</td>\n",
       "      <td>-2</td>\n",
       "      <td>-6</td>\n",
       "      <td>1</td>\n",
       "    </tr>\n",
       "    <tr>\n",
       "      <th>9</th>\n",
       "      <td>3</td>\n",
       "      <td>38</td>\n",
       "      <td>5187</td>\n",
       "      <td>2</td>\n",
       "      <td>28</td>\n",
       "      <td>2600</td>\n",
       "      <td>4</td>\n",
       "      <td>9</td>\n",
       "      <td>2015</td>\n",
       "      <td>1</td>\n",
       "      <td>...</td>\n",
       "      <td>3</td>\n",
       "      <td>computer programming</td>\n",
       "      <td>56</td>\n",
       "      <td>42</td>\n",
       "      <td>48</td>\n",
       "      <td>-6</td>\n",
       "      <td>-6</td>\n",
       "      <td>3</td>\n",
       "      <td>-6</td>\n",
       "      <td>-2</td>\n",
       "    </tr>\n",
       "  </tbody>\n",
       "</table>\n",
       "<p>10 rows × 180 columns</p>\n",
       "</div>"
      ],
      "text/plain": [
       "   Q1A  Q1I   Q1E  Q2A  Q2I   Q2E  Q3A  Q3I    Q3E  Q4A  ...  familysize  \\\n",
       "0    4   28  3890    4   25  2122    2   16   1944    4  ...           2   \n",
       "1    4    2  8118    1   36  2890    2   35   4777    3  ...           4   \n",
       "2    3    7  5784    1   33  4373    4   41   3242    1  ...           3   \n",
       "3    2   23  5081    3   11  6837    2   37   5521    1  ...           5   \n",
       "4    2   36  3215    2   13  7731    3    5   4156    4  ...           4   \n",
       "5    1   18  6116    1   28  3193    2    2  12542    1  ...           4   \n",
       "6    1   20  4325    1   34  4009    2   38   3604    3  ...           4   \n",
       "7    1   34  4796    1    9  2618    1   39   5823    1  ...           2   \n",
       "8    4    4  3470    4   14  2139    3    1  11043    4  ...           4   \n",
       "9    3   38  5187    2   28  2600    4    9   2015    1  ...           3   \n",
       "\n",
       "                       major  depression_score  anxiety_score  stress_score  \\\n",
       "0                        NaN                41             48            54   \n",
       "1                        NaN                38             31            41   \n",
       "2                        NaN                53             26            31   \n",
       "3                    biology                30             31            30   \n",
       "4                 Psychology                46             54            43   \n",
       "5                        NaN                27             20            26   \n",
       "6  Mechatronics engeenerieng                45             33            28   \n",
       "7                      Music                18             18            20   \n",
       "8                Psychology                 49             53            47   \n",
       "9       computer programming                56             42            48   \n",
       "\n",
       "   extraversion  agreeableness  conscientiousness  emotional_stability  \\\n",
       "0            -6              2                  2                   -6   \n",
       "1             2              2                 -3                   -6   \n",
       "2            -4              0                 -3                    1   \n",
       "3            -3              5                  6                    2   \n",
       "4            -3              0                 -3                   -3   \n",
       "5            -5              6                  4                    5   \n",
       "6             0              1                  3                    0   \n",
       "7             5              0                  1                    0   \n",
       "8            -6              2                 -2                   -6   \n",
       "9            -6             -6                  3                   -6   \n",
       "\n",
       "   openness  \n",
       "0         6  \n",
       "1         0  \n",
       "2         3  \n",
       "3         5  \n",
       "4         2  \n",
       "5         0  \n",
       "6        -2  \n",
       "7         1  \n",
       "8         1  \n",
       "9        -2  \n",
       "\n",
       "[10 rows x 180 columns]"
      ]
     },
     "execution_count": 8,
     "metadata": {},
     "output_type": "execute_result"
    }
   ],
   "source": [
    "data.head(10)"
   ]
  },
  {
   "cell_type": "code",
   "execution_count": 9,
   "metadata": {},
   "outputs": [],
   "source": [
    "def score(colname: str, data: pd.DataFrame) -> pd.DataFrame:\n",
    "    for index, i in enumerate(data[colname]):\n",
    "        if i <= 9:\n",
    "            data.loc[index, colname] = 1\n",
    "        elif 9 < i <= 13:\n",
    "            data.loc[index, colname] = 2\n",
    "        elif 13 < i <= 20:\n",
    "            data.loc[index, colname] = 3\n",
    "        elif 20 < i <= 27:\n",
    "            data.loc[index, colname] = 4\n",
    "        else:\n",
    "            data.loc[index, colname] = 5\n",
    "    return data[colname]"
   ]
  },
  {
   "cell_type": "code",
   "execution_count": 10,
   "metadata": {},
   "outputs": [
    {
     "data": {
      "text/plain": [
       "0        5\n",
       "1        5\n",
       "2        5\n",
       "3        5\n",
       "4        5\n",
       "        ..\n",
       "39770    5\n",
       "39771    5\n",
       "39772    3\n",
       "39773    5\n",
       "39774    5\n",
       "Name: stress_score, Length: 39775, dtype: int64"
      ]
     },
     "execution_count": 10,
     "metadata": {},
     "output_type": "execute_result"
    }
   ],
   "source": [
    "score(\"depression_score\", data)\n",
    "score(\"anxiety_score\", data)\n",
    "score(\"stress_score\", data)"
   ]
  },
  {
   "cell_type": "code",
   "execution_count": 11,
   "metadata": {},
   "outputs": [
    {
     "data": {
      "text/html": [
       "<div>\n",
       "<style scoped>\n",
       "    .dataframe tbody tr th:only-of-type {\n",
       "        vertical-align: middle;\n",
       "    }\n",
       "\n",
       "    .dataframe tbody tr th {\n",
       "        vertical-align: top;\n",
       "    }\n",
       "\n",
       "    .dataframe thead th {\n",
       "        text-align: right;\n",
       "    }\n",
       "</style>\n",
       "<table border=\"1\" class=\"dataframe\">\n",
       "  <thead>\n",
       "    <tr style=\"text-align: right;\">\n",
       "      <th></th>\n",
       "      <th>Q1A</th>\n",
       "      <th>Q1I</th>\n",
       "      <th>Q1E</th>\n",
       "      <th>Q2A</th>\n",
       "      <th>Q2I</th>\n",
       "      <th>Q2E</th>\n",
       "      <th>Q3A</th>\n",
       "      <th>Q3I</th>\n",
       "      <th>Q3E</th>\n",
       "      <th>Q4A</th>\n",
       "      <th>...</th>\n",
       "      <th>familysize</th>\n",
       "      <th>major</th>\n",
       "      <th>depression_score</th>\n",
       "      <th>anxiety_score</th>\n",
       "      <th>stress_score</th>\n",
       "      <th>extraversion</th>\n",
       "      <th>agreeableness</th>\n",
       "      <th>conscientiousness</th>\n",
       "      <th>emotional_stability</th>\n",
       "      <th>openness</th>\n",
       "    </tr>\n",
       "  </thead>\n",
       "  <tbody>\n",
       "    <tr>\n",
       "      <th>0</th>\n",
       "      <td>4</td>\n",
       "      <td>28</td>\n",
       "      <td>3890</td>\n",
       "      <td>4</td>\n",
       "      <td>25</td>\n",
       "      <td>2122</td>\n",
       "      <td>2</td>\n",
       "      <td>16</td>\n",
       "      <td>1944</td>\n",
       "      <td>4</td>\n",
       "      <td>...</td>\n",
       "      <td>2</td>\n",
       "      <td>NaN</td>\n",
       "      <td>5</td>\n",
       "      <td>5</td>\n",
       "      <td>5</td>\n",
       "      <td>-6</td>\n",
       "      <td>2</td>\n",
       "      <td>2</td>\n",
       "      <td>-6</td>\n",
       "      <td>6</td>\n",
       "    </tr>\n",
       "    <tr>\n",
       "      <th>1</th>\n",
       "      <td>4</td>\n",
       "      <td>2</td>\n",
       "      <td>8118</td>\n",
       "      <td>1</td>\n",
       "      <td>36</td>\n",
       "      <td>2890</td>\n",
       "      <td>2</td>\n",
       "      <td>35</td>\n",
       "      <td>4777</td>\n",
       "      <td>3</td>\n",
       "      <td>...</td>\n",
       "      <td>4</td>\n",
       "      <td>NaN</td>\n",
       "      <td>5</td>\n",
       "      <td>5</td>\n",
       "      <td>5</td>\n",
       "      <td>2</td>\n",
       "      <td>2</td>\n",
       "      <td>-3</td>\n",
       "      <td>-6</td>\n",
       "      <td>0</td>\n",
       "    </tr>\n",
       "    <tr>\n",
       "      <th>2</th>\n",
       "      <td>3</td>\n",
       "      <td>7</td>\n",
       "      <td>5784</td>\n",
       "      <td>1</td>\n",
       "      <td>33</td>\n",
       "      <td>4373</td>\n",
       "      <td>4</td>\n",
       "      <td>41</td>\n",
       "      <td>3242</td>\n",
       "      <td>1</td>\n",
       "      <td>...</td>\n",
       "      <td>3</td>\n",
       "      <td>NaN</td>\n",
       "      <td>5</td>\n",
       "      <td>4</td>\n",
       "      <td>5</td>\n",
       "      <td>-4</td>\n",
       "      <td>0</td>\n",
       "      <td>-3</td>\n",
       "      <td>1</td>\n",
       "      <td>3</td>\n",
       "    </tr>\n",
       "    <tr>\n",
       "      <th>3</th>\n",
       "      <td>2</td>\n",
       "      <td>23</td>\n",
       "      <td>5081</td>\n",
       "      <td>3</td>\n",
       "      <td>11</td>\n",
       "      <td>6837</td>\n",
       "      <td>2</td>\n",
       "      <td>37</td>\n",
       "      <td>5521</td>\n",
       "      <td>1</td>\n",
       "      <td>...</td>\n",
       "      <td>5</td>\n",
       "      <td>biology</td>\n",
       "      <td>5</td>\n",
       "      <td>5</td>\n",
       "      <td>5</td>\n",
       "      <td>-3</td>\n",
       "      <td>5</td>\n",
       "      <td>6</td>\n",
       "      <td>2</td>\n",
       "      <td>5</td>\n",
       "    </tr>\n",
       "    <tr>\n",
       "      <th>4</th>\n",
       "      <td>2</td>\n",
       "      <td>36</td>\n",
       "      <td>3215</td>\n",
       "      <td>2</td>\n",
       "      <td>13</td>\n",
       "      <td>7731</td>\n",
       "      <td>3</td>\n",
       "      <td>5</td>\n",
       "      <td>4156</td>\n",
       "      <td>4</td>\n",
       "      <td>...</td>\n",
       "      <td>4</td>\n",
       "      <td>Psychology</td>\n",
       "      <td>5</td>\n",
       "      <td>5</td>\n",
       "      <td>5</td>\n",
       "      <td>-3</td>\n",
       "      <td>0</td>\n",
       "      <td>-3</td>\n",
       "      <td>-3</td>\n",
       "      <td>2</td>\n",
       "    </tr>\n",
       "  </tbody>\n",
       "</table>\n",
       "<p>5 rows × 180 columns</p>\n",
       "</div>"
      ],
      "text/plain": [
       "   Q1A  Q1I   Q1E  Q2A  Q2I   Q2E  Q3A  Q3I   Q3E  Q4A  ...  familysize  \\\n",
       "0    4   28  3890    4   25  2122    2   16  1944    4  ...           2   \n",
       "1    4    2  8118    1   36  2890    2   35  4777    3  ...           4   \n",
       "2    3    7  5784    1   33  4373    4   41  3242    1  ...           3   \n",
       "3    2   23  5081    3   11  6837    2   37  5521    1  ...           5   \n",
       "4    2   36  3215    2   13  7731    3    5  4156    4  ...           4   \n",
       "\n",
       "        major  depression_score  anxiety_score  stress_score  extraversion  \\\n",
       "0         NaN                 5              5             5            -6   \n",
       "1         NaN                 5              5             5             2   \n",
       "2         NaN                 5              4             5            -4   \n",
       "3     biology                 5              5             5            -3   \n",
       "4  Psychology                 5              5             5            -3   \n",
       "\n",
       "   agreeableness  conscientiousness  emotional_stability  openness  \n",
       "0              2                  2                   -6         6  \n",
       "1              2                 -3                   -6         0  \n",
       "2              0                 -3                    1         3  \n",
       "3              5                  6                    2         5  \n",
       "4              0                 -3                   -3         2  \n",
       "\n",
       "[5 rows x 180 columns]"
      ]
     },
     "execution_count": 11,
     "metadata": {},
     "output_type": "execute_result"
    }
   ],
   "source": [
    "data.head()"
   ]
  },
  {
   "cell_type": "code",
   "execution_count": 12,
   "metadata": {},
   "outputs": [
    {
     "data": {
      "image/png": "[encoded data removed]",
      "text/plain": [
       "<Figure size 1000x500 with 3 Axes>"
      ]
     },
     "metadata": {},
     "output_type": "display_data"
    }
   ],
   "source": [
    "fig, axes = plt.subplots(nrows=1, ncols=3, figsize=(10, 5))\n",
    "axes = axes.ravel()\n",
    "sns.countplot(x = data[\"depression_score\"],ax = axes[0])\n",
    "axes[0].set_title(\"depression\")\n",
    "sns.countplot(x = data[\"anxiety_score\"],ax = axes[1])\n",
    "axes[1].set_title(\"anxiety\")\n",
    "sns.countplot(x = data[\"stress_score\"],ax = axes[2])\n",
    "axes[2].set_title(\"stress\")\n",
    "plt.tight_layout()"
   ]
  },
  {
   "cell_type": "code",
   "execution_count": 13,
   "metadata": {},
   "outputs": [
    {
     "data": {
      "text/plain": [
       "([<matplotlib.axis.XTick at 0x13f4eb7d0>,\n",
       "  <matplotlib.axis.XTick at 0x13f4bc050>,\n",
       "  <matplotlib.axis.XTick at 0x148bee150>,\n",
       "  <matplotlib.axis.XTick at 0x148befed0>],\n",
       " [Text(0, 0, 'LessthanHigh'),\n",
       "  Text(1, 0, 'HighSchool'),\n",
       "  Text(2, 0, 'University'),\n",
       "  Text(3, 0, 'Graduate')])"
      ]
     },
     "execution_count": 13,
     "metadata": {},
     "output_type": "execute_result"
    },
    {
     "data": {
      "image/png": "[encoded data removed]",
      "text/plain": [
       "<Figure size 640x480 with 1 Axes>"
      ]
     },
     "metadata": {},
     "output_type": "display_data"
    }
   ],
   "source": [
    "sns.barplot(x=\"education\", y=\"depression_score\", data=data[data[\"education\"] != 0])\n",
    "plt.xticks(ticks = range(len(data[data[\"education\"] != 0][\"education\"].unique())), labels = [\"LessthanHigh\", \"HighSchool\", \"University\", \"Graduate\"])"
   ]
  },
  {
   "cell_type": "code",
   "execution_count": 14,
   "metadata": {},
   "outputs": [
    {
     "data": {
      "text/plain": [
       "([<matplotlib.axis.XTick at 0x13f0d2910>,\n",
       "  <matplotlib.axis.XTick at 0x12f31b410>,\n",
       "  <matplotlib.axis.XTick at 0x13f00c290>],\n",
       " [Text(0, 0, 'Single'), Text(1, 0, 'Married'), Text(2, 0, 'Divorced')])"
      ]
     },
     "execution_count": 14,
     "metadata": {},
     "output_type": "execute_result"
    },
    {
     "data": {
      "image/png": "[encoded data removed]",
      "text/plain": [
       "<Figure size 640x480 with 1 Axes>"
      ]
     },
     "metadata": {},
     "output_type": "display_data"
    }
   ],
   "source": [
    "sns.barplot(x=\"married\", y=\"depression_score\", data=data[data[\"married\"] != 0])\n",
    "plt.xticks(ticks = range(len(data[data[\"married\"] != 0][\"married\"].unique())), labels = [\"Single\", \"Married\", \"Divorced\"])"
   ]
  },
  {
   "cell_type": "code",
   "execution_count": 15,
   "metadata": {},
   "outputs": [
    {
     "data": {
      "text/plain": [
       "<Axes: xlabel='religion', ylabel='depression_score'>"
      ]
     },
     "execution_count": 15,
     "metadata": {},
     "output_type": "execute_result"
    },
    {
     "data": {
      "image/png": "[encoded data removed]",
      "text/plain": [
       "<Figure size 640x480 with 1 Axes>"
      ]
     },
     "metadata": {},
     "output_type": "display_data"
    }
   ],
   "source": [
    "sns.barplot(data = data[data[\"religion\"] != 0], x = \"religion\", y = \"depression_score\", color = \"grey\")"
   ]
  },
  {
   "cell_type": "code",
   "execution_count": 16,
   "metadata": {},
   "outputs": [
    {
     "data": {
      "text/plain": [
       "([<matplotlib.axis.XTick at 0x13f1c3710>,\n",
       "  <matplotlib.axis.XTick at 0x13f000290>,\n",
       "  <matplotlib.axis.XTick at 0x148d31990>,\n",
       "  <matplotlib.axis.XTick at 0x148d33890>,\n",
       "  <matplotlib.axis.XTick at 0x148d3df10>],\n",
       " [Text(0, 0, 'Hetero'),\n",
       "  Text(1, 0, 'Bi'),\n",
       "  Text(2, 0, 'Homo'),\n",
       "  Text(3, 0, 'A'),\n",
       "  Text(4, 0, 'Other')])"
      ]
     },
     "execution_count": 16,
     "metadata": {},
     "output_type": "execute_result"
    },
    {
     "data": {
      "image/png": "[encoded data removed]",
      "text/plain": [
       "<Figure size 640x480 with 1 Axes>"
      ]
     },
     "metadata": {},
     "output_type": "display_data"
    }
   ],
   "source": [
    "sns.barplot(data = data[data[\"orientation\"] != 0], x = \"orientation\", y= \"depression_score\", color = \"grey\")\n",
    "plt.xticks(ticks = range(len(data[data[\"orientation\"] != 0][\"orientation\"].unique())), labels = [\"Hetero\", \"Bi\", \"Homo\", \"A\", \"Other\"])"
   ]
  },
  {
   "cell_type": "code",
   "execution_count": 17,
   "metadata": {},
   "outputs": [],
   "source": [
    "dropped_questions = [\"country\", \"source\", \"introelapse\", \"testelapse\", \"surveyelapse\", \"screensize\", \"uniquenetworklocation\"]\n",
    "for i in data.columns:\n",
    "    if i.startswith(\"Q\") and (i.endswith(\"I\") or i.endswith(\"E\")):\n",
    "        dropped_questions.append(i)\n",
    "\n",
    "data = data.drop(dropped_questions, axis=1)"
   ]
  },
  {
   "cell_type": "code",
   "execution_count": 18,
   "metadata": {},
   "outputs": [],
   "source": [
    "categories = []\n",
    "for label, item in data.items():\n",
    "    if pd.api.types.is_object_dtype(item):\n",
    "        categories.append(label)"
   ]
  },
  {
   "cell_type": "code",
   "execution_count": 19,
   "metadata": {},
   "outputs": [
    {
     "name": "stderr",
     "output_type": "stream",
     "text": [
      "/var/folders/pd/hd4ggfd92s96hw2m79cprk4h0000gn/T/ipykernel_12594/3480842869.py:3: DeprecationWarning: is_int64_dtype is deprecated and will be removed in a future version. Use dtype == np.int64 instead.\n",
      "  if pd.api.types.is_int64_dtype(item):\n"
     ]
    }
   ],
   "source": [
    "numericals = []\n",
    "for label, item in data.items():\n",
    "    if pd.api.types.is_int64_dtype(item):\n",
    "        numericals.append(label)"
   ]
  },
  {
   "cell_type": "code",
   "execution_count": 20,
   "metadata": {},
   "outputs": [],
   "source": [
    "data_copy = data.copy()"
   ]
  },
  {
   "cell_type": "code",
   "execution_count": 21,
   "metadata": {},
   "outputs": [
    {
     "data": {
      "text/plain": [
       "Index(['Q1A', 'Q2A', 'Q3A', 'Q4A', 'Q5A', 'Q6A', 'Q7A', 'Q8A', 'Q9A', 'Q10A',\n",
       "       'Q11A', 'Q12A', 'Q13A', 'Q14A', 'Q15A', 'Q16A', 'Q17A', 'Q18A', 'Q19A',\n",
       "       'Q20A', 'Q21A', 'Q22A', 'Q23A', 'Q24A', 'Q25A', 'Q26A', 'Q27A', 'Q28A',\n",
       "       'Q29A', 'Q30A', 'Q31A', 'Q32A', 'Q33A', 'Q34A', 'Q35A', 'Q36A', 'Q37A',\n",
       "       'Q38A', 'Q39A', 'Q40A', 'Q41A', 'Q42A', 'TIPI1', 'TIPI2', 'TIPI3',\n",
       "       'TIPI4', 'TIPI5', 'TIPI6', 'TIPI7', 'TIPI8', 'TIPI9', 'TIPI10', 'VCL1',\n",
       "       'VCL2', 'VCL3', 'VCL4', 'VCL5', 'VCL6', 'VCL7', 'VCL8', 'VCL9', 'VCL10',\n",
       "       'VCL11', 'VCL12', 'VCL13', 'VCL14', 'VCL15', 'VCL16', 'education',\n",
       "       'urban', 'gender', 'engnat', 'age', 'hand', 'religion', 'orientation',\n",
       "       'race', 'voted', 'married', 'familysize', 'major', 'depression_score',\n",
       "       'anxiety_score', 'stress_score', 'extraversion', 'agreeableness',\n",
       "       'conscientiousness', 'emotional_stability', 'openness'],\n",
       "      dtype='object')"
      ]
     },
     "execution_count": 21,
     "metadata": {},
     "output_type": "execute_result"
    }
   ],
   "source": [
    "data_copy.columns"
   ]
  },
  {
   "cell_type": "code",
   "execution_count": 22,
   "metadata": {},
   "outputs": [],
   "source": [
    "import pickle\n",
    "\n",
    "data_copy = pd.get_dummies(data, columns=categories)\n",
    "with open('onehot_columns.pkl', 'wb') as f:\n",
    "    pickle.dump(data_copy.columns, f)"
   ]
  },
  {
   "cell_type": "code",
   "execution_count": 23,
   "metadata": {},
   "outputs": [
    {
     "data": {
      "text/plain": [
       "Index(['Q1A', 'Q2A', 'Q3A', 'Q4A', 'Q5A', 'Q6A', 'Q7A', 'Q8A', 'Q9A', 'Q10A',\n",
       "       ...\n",
       "       'major_virology', 'major_visual arts', 'major_visual arts and culture',\n",
       "       'major_water engineering', 'major_web design', 'major_web development',\n",
       "       'major_writing', 'major_writing ', 'major_yes', 'major_zoology'],\n",
       "      dtype='object', length=5396)"
      ]
     },
     "execution_count": 23,
     "metadata": {},
     "output_type": "execute_result"
    }
   ],
   "source": [
    "data_copy.columns"
   ]
  },
  {
   "cell_type": "code",
   "execution_count": 24,
   "metadata": {},
   "outputs": [
    {
     "data": {
      "text/html": [
       "<div>\n",
       "<style scoped>\n",
       "    .dataframe tbody tr th:only-of-type {\n",
       "        vertical-align: middle;\n",
       "    }\n",
       "\n",
       "    .dataframe tbody tr th {\n",
       "        vertical-align: top;\n",
       "    }\n",
       "\n",
       "    .dataframe thead th {\n",
       "        text-align: right;\n",
       "    }\n",
       "</style>\n",
       "<table border=\"1\" class=\"dataframe\">\n",
       "  <thead>\n",
       "    <tr style=\"text-align: right;\">\n",
       "      <th></th>\n",
       "      <th>Q1A</th>\n",
       "      <th>Q2A</th>\n",
       "      <th>Q3A</th>\n",
       "      <th>Q4A</th>\n",
       "      <th>Q5A</th>\n",
       "      <th>Q6A</th>\n",
       "      <th>Q7A</th>\n",
       "      <th>Q8A</th>\n",
       "      <th>Q9A</th>\n",
       "      <th>Q10A</th>\n",
       "      <th>...</th>\n",
       "      <th>major_virology</th>\n",
       "      <th>major_visual arts</th>\n",
       "      <th>major_visual arts and culture</th>\n",
       "      <th>major_water engineering</th>\n",
       "      <th>major_web design</th>\n",
       "      <th>major_web development</th>\n",
       "      <th>major_writing</th>\n",
       "      <th>major_writing</th>\n",
       "      <th>major_yes</th>\n",
       "      <th>major_zoology</th>\n",
       "    </tr>\n",
       "  </thead>\n",
       "  <tbody>\n",
       "    <tr>\n",
       "      <th>0</th>\n",
       "      <td>4</td>\n",
       "      <td>4</td>\n",
       "      <td>2</td>\n",
       "      <td>4</td>\n",
       "      <td>4</td>\n",
       "      <td>4</td>\n",
       "      <td>4</td>\n",
       "      <td>4</td>\n",
       "      <td>2</td>\n",
       "      <td>1</td>\n",
       "      <td>...</td>\n",
       "      <td>False</td>\n",
       "      <td>False</td>\n",
       "      <td>False</td>\n",
       "      <td>False</td>\n",
       "      <td>False</td>\n",
       "      <td>False</td>\n",
       "      <td>False</td>\n",
       "      <td>False</td>\n",
       "      <td>False</td>\n",
       "      <td>False</td>\n",
       "    </tr>\n",
       "    <tr>\n",
       "      <th>1</th>\n",
       "      <td>4</td>\n",
       "      <td>1</td>\n",
       "      <td>2</td>\n",
       "      <td>3</td>\n",
       "      <td>4</td>\n",
       "      <td>4</td>\n",
       "      <td>3</td>\n",
       "      <td>4</td>\n",
       "      <td>3</td>\n",
       "      <td>2</td>\n",
       "      <td>...</td>\n",
       "      <td>False</td>\n",
       "      <td>False</td>\n",
       "      <td>False</td>\n",
       "      <td>False</td>\n",
       "      <td>False</td>\n",
       "      <td>False</td>\n",
       "      <td>False</td>\n",
       "      <td>False</td>\n",
       "      <td>False</td>\n",
       "      <td>False</td>\n",
       "    </tr>\n",
       "    <tr>\n",
       "      <th>2</th>\n",
       "      <td>3</td>\n",
       "      <td>1</td>\n",
       "      <td>4</td>\n",
       "      <td>1</td>\n",
       "      <td>4</td>\n",
       "      <td>3</td>\n",
       "      <td>1</td>\n",
       "      <td>3</td>\n",
       "      <td>2</td>\n",
       "      <td>4</td>\n",
       "      <td>...</td>\n",
       "      <td>False</td>\n",
       "      <td>False</td>\n",
       "      <td>False</td>\n",
       "      <td>False</td>\n",
       "      <td>False</td>\n",
       "      <td>False</td>\n",
       "      <td>False</td>\n",
       "      <td>False</td>\n",
       "      <td>False</td>\n",
       "      <td>False</td>\n",
       "    </tr>\n",
       "    <tr>\n",
       "      <th>3</th>\n",
       "      <td>2</td>\n",
       "      <td>3</td>\n",
       "      <td>2</td>\n",
       "      <td>1</td>\n",
       "      <td>3</td>\n",
       "      <td>3</td>\n",
       "      <td>4</td>\n",
       "      <td>2</td>\n",
       "      <td>3</td>\n",
       "      <td>3</td>\n",
       "      <td>...</td>\n",
       "      <td>False</td>\n",
       "      <td>False</td>\n",
       "      <td>False</td>\n",
       "      <td>False</td>\n",
       "      <td>False</td>\n",
       "      <td>False</td>\n",
       "      <td>False</td>\n",
       "      <td>False</td>\n",
       "      <td>False</td>\n",
       "      <td>False</td>\n",
       "    </tr>\n",
       "    <tr>\n",
       "      <th>4</th>\n",
       "      <td>2</td>\n",
       "      <td>2</td>\n",
       "      <td>3</td>\n",
       "      <td>4</td>\n",
       "      <td>4</td>\n",
       "      <td>2</td>\n",
       "      <td>4</td>\n",
       "      <td>4</td>\n",
       "      <td>4</td>\n",
       "      <td>3</td>\n",
       "      <td>...</td>\n",
       "      <td>False</td>\n",
       "      <td>False</td>\n",
       "      <td>False</td>\n",
       "      <td>False</td>\n",
       "      <td>False</td>\n",
       "      <td>False</td>\n",
       "      <td>False</td>\n",
       "      <td>False</td>\n",
       "      <td>False</td>\n",
       "      <td>False</td>\n",
       "    </tr>\n",
       "    <tr>\n",
       "      <th>...</th>\n",
       "      <td>...</td>\n",
       "      <td>...</td>\n",
       "      <td>...</td>\n",
       "      <td>...</td>\n",
       "      <td>...</td>\n",
       "      <td>...</td>\n",
       "      <td>...</td>\n",
       "      <td>...</td>\n",
       "      <td>...</td>\n",
       "      <td>...</td>\n",
       "      <td>...</td>\n",
       "      <td>...</td>\n",
       "      <td>...</td>\n",
       "      <td>...</td>\n",
       "      <td>...</td>\n",
       "      <td>...</td>\n",
       "      <td>...</td>\n",
       "      <td>...</td>\n",
       "      <td>...</td>\n",
       "      <td>...</td>\n",
       "      <td>...</td>\n",
       "    </tr>\n",
       "    <tr>\n",
       "      <th>39770</th>\n",
       "      <td>2</td>\n",
       "      <td>1</td>\n",
       "      <td>3</td>\n",
       "      <td>2</td>\n",
       "      <td>3</td>\n",
       "      <td>2</td>\n",
       "      <td>1</td>\n",
       "      <td>3</td>\n",
       "      <td>1</td>\n",
       "      <td>4</td>\n",
       "      <td>...</td>\n",
       "      <td>False</td>\n",
       "      <td>False</td>\n",
       "      <td>False</td>\n",
       "      <td>False</td>\n",
       "      <td>False</td>\n",
       "      <td>False</td>\n",
       "      <td>False</td>\n",
       "      <td>False</td>\n",
       "      <td>False</td>\n",
       "      <td>False</td>\n",
       "    </tr>\n",
       "    <tr>\n",
       "      <th>39771</th>\n",
       "      <td>3</td>\n",
       "      <td>4</td>\n",
       "      <td>3</td>\n",
       "      <td>4</td>\n",
       "      <td>3</td>\n",
       "      <td>4</td>\n",
       "      <td>4</td>\n",
       "      <td>4</td>\n",
       "      <td>3</td>\n",
       "      <td>4</td>\n",
       "      <td>...</td>\n",
       "      <td>False</td>\n",
       "      <td>False</td>\n",
       "      <td>False</td>\n",
       "      <td>False</td>\n",
       "      <td>False</td>\n",
       "      <td>False</td>\n",
       "      <td>False</td>\n",
       "      <td>False</td>\n",
       "      <td>False</td>\n",
       "      <td>False</td>\n",
       "    </tr>\n",
       "    <tr>\n",
       "      <th>39772</th>\n",
       "      <td>2</td>\n",
       "      <td>1</td>\n",
       "      <td>2</td>\n",
       "      <td>1</td>\n",
       "      <td>1</td>\n",
       "      <td>1</td>\n",
       "      <td>1</td>\n",
       "      <td>1</td>\n",
       "      <td>2</td>\n",
       "      <td>1</td>\n",
       "      <td>...</td>\n",
       "      <td>False</td>\n",
       "      <td>False</td>\n",
       "      <td>False</td>\n",
       "      <td>False</td>\n",
       "      <td>False</td>\n",
       "      <td>False</td>\n",
       "      <td>False</td>\n",
       "      <td>False</td>\n",
       "      <td>False</td>\n",
       "      <td>False</td>\n",
       "    </tr>\n",
       "    <tr>\n",
       "      <th>39773</th>\n",
       "      <td>3</td>\n",
       "      <td>1</td>\n",
       "      <td>2</td>\n",
       "      <td>2</td>\n",
       "      <td>3</td>\n",
       "      <td>3</td>\n",
       "      <td>3</td>\n",
       "      <td>4</td>\n",
       "      <td>3</td>\n",
       "      <td>1</td>\n",
       "      <td>...</td>\n",
       "      <td>False</td>\n",
       "      <td>False</td>\n",
       "      <td>False</td>\n",
       "      <td>False</td>\n",
       "      <td>False</td>\n",
       "      <td>False</td>\n",
       "      <td>False</td>\n",
       "      <td>False</td>\n",
       "      <td>False</td>\n",
       "      <td>False</td>\n",
       "    </tr>\n",
       "    <tr>\n",
       "      <th>39774</th>\n",
       "      <td>2</td>\n",
       "      <td>1</td>\n",
       "      <td>2</td>\n",
       "      <td>1</td>\n",
       "      <td>4</td>\n",
       "      <td>2</td>\n",
       "      <td>1</td>\n",
       "      <td>1</td>\n",
       "      <td>1</td>\n",
       "      <td>1</td>\n",
       "      <td>...</td>\n",
       "      <td>False</td>\n",
       "      <td>False</td>\n",
       "      <td>False</td>\n",
       "      <td>False</td>\n",
       "      <td>False</td>\n",
       "      <td>False</td>\n",
       "      <td>False</td>\n",
       "      <td>False</td>\n",
       "      <td>False</td>\n",
       "      <td>False</td>\n",
       "    </tr>\n",
       "  </tbody>\n",
       "</table>\n",
       "<p>39775 rows × 5396 columns</p>\n",
       "</div>"
      ],
      "text/plain": [
       "       Q1A  Q2A  Q3A  Q4A  Q5A  Q6A  Q7A  Q8A  Q9A  Q10A  ...  major_virology  \\\n",
       "0        4    4    2    4    4    4    4    4    2     1  ...           False   \n",
       "1        4    1    2    3    4    4    3    4    3     2  ...           False   \n",
       "2        3    1    4    1    4    3    1    3    2     4  ...           False   \n",
       "3        2    3    2    1    3    3    4    2    3     3  ...           False   \n",
       "4        2    2    3    4    4    2    4    4    4     3  ...           False   \n",
       "...    ...  ...  ...  ...  ...  ...  ...  ...  ...   ...  ...             ...   \n",
       "39770    2    1    3    2    3    2    1    3    1     4  ...           False   \n",
       "39771    3    4    3    4    3    4    4    4    3     4  ...           False   \n",
       "39772    2    1    2    1    1    1    1    1    2     1  ...           False   \n",
       "39773    3    1    2    2    3    3    3    4    3     1  ...           False   \n",
       "39774    2    1    2    1    4    2    1    1    1     1  ...           False   \n",
       "\n",
       "       major_visual arts  major_visual arts and culture  \\\n",
       "0                  False                          False   \n",
       "1                  False                          False   \n",
       "2                  False                          False   \n",
       "3                  False                          False   \n",
       "4                  False                          False   \n",
       "...                  ...                            ...   \n",
       "39770              False                          False   \n",
       "39771              False                          False   \n",
       "39772              False                          False   \n",
       "39773              False                          False   \n",
       "39774              False                          False   \n",
       "\n",
       "       major_water engineering  major_web design  major_web development  \\\n",
       "0                        False             False                  False   \n",
       "1                        False             False                  False   \n",
       "2                        False             False                  False   \n",
       "3                        False             False                  False   \n",
       "4                        False             False                  False   \n",
       "...                        ...               ...                    ...   \n",
       "39770                    False             False                  False   \n",
       "39771                    False             False                  False   \n",
       "39772                    False             False                  False   \n",
       "39773                    False             False                  False   \n",
       "39774                    False             False                  False   \n",
       "\n",
       "       major_writing  major_writing   major_yes  major_zoology  \n",
       "0              False           False      False          False  \n",
       "1              False           False      False          False  \n",
       "2              False           False      False          False  \n",
       "3              False           False      False          False  \n",
       "4              False           False      False          False  \n",
       "...              ...             ...        ...            ...  \n",
       "39770          False           False      False          False  \n",
       "39771          False           False      False          False  \n",
       "39772          False           False      False          False  \n",
       "39773          False           False      False          False  \n",
       "39774          False           False      False          False  \n",
       "\n",
       "[39775 rows x 5396 columns]"
      ]
     },
     "execution_count": 24,
     "metadata": {},
     "output_type": "execute_result"
    }
   ],
   "source": [
    "data_copy"
   ]
  },
  {
   "cell_type": "code",
   "execution_count": 25,
   "metadata": {},
   "outputs": [],
   "source": [
    "scores = [\"depression_score\", \"anxiety_score\", \"stress_score\"]"
   ]
  },
  {
   "cell_type": "code",
   "execution_count": 26,
   "metadata": {},
   "outputs": [],
   "source": [
    "from sklearn.model_selection import train_test_split\n",
    "\n",
    "train_data, test_data = train_test_split(data_copy, test_size=0.2)"
   ]
  },
  {
   "cell_type": "code",
   "execution_count": 58,
   "metadata": {},
   "outputs": [],
   "source": [
    "train_data_scores = train_data[scores]"
   ]
  },
  {
   "cell_type": "code",
   "execution_count": 59,
   "metadata": {},
   "outputs": [
    {
     "data": {
      "text/html": [
       "<div>\n",
       "<style scoped>\n",
       "    .dataframe tbody tr th:only-of-type {\n",
       "        vertical-align: middle;\n",
       "    }\n",
       "\n",
       "    .dataframe tbody tr th {\n",
       "        vertical-align: top;\n",
       "    }\n",
       "\n",
       "    .dataframe thead th {\n",
       "        text-align: right;\n",
       "    }\n",
       "</style>\n",
       "<table border=\"1\" class=\"dataframe\">\n",
       "  <thead>\n",
       "    <tr style=\"text-align: right;\">\n",
       "      <th></th>\n",
       "      <th>depression_score</th>\n",
       "      <th>anxiety_score</th>\n",
       "      <th>stress_score</th>\n",
       "    </tr>\n",
       "  </thead>\n",
       "  <tbody>\n",
       "    <tr>\n",
       "      <th>2825</th>\n",
       "      <td>5</td>\n",
       "      <td>5</td>\n",
       "      <td>5</td>\n",
       "    </tr>\n",
       "    <tr>\n",
       "      <th>37286</th>\n",
       "      <td>5</td>\n",
       "      <td>3</td>\n",
       "      <td>5</td>\n",
       "    </tr>\n",
       "    <tr>\n",
       "      <th>21810</th>\n",
       "      <td>4</td>\n",
       "      <td>4</td>\n",
       "      <td>4</td>\n",
       "    </tr>\n",
       "    <tr>\n",
       "      <th>24101</th>\n",
       "      <td>5</td>\n",
       "      <td>5</td>\n",
       "      <td>5</td>\n",
       "    </tr>\n",
       "    <tr>\n",
       "      <th>25327</th>\n",
       "      <td>4</td>\n",
       "      <td>3</td>\n",
       "      <td>4</td>\n",
       "    </tr>\n",
       "    <tr>\n",
       "      <th>...</th>\n",
       "      <td>...</td>\n",
       "      <td>...</td>\n",
       "      <td>...</td>\n",
       "    </tr>\n",
       "    <tr>\n",
       "      <th>16819</th>\n",
       "      <td>4</td>\n",
       "      <td>4</td>\n",
       "      <td>5</td>\n",
       "    </tr>\n",
       "    <tr>\n",
       "      <th>25137</th>\n",
       "      <td>5</td>\n",
       "      <td>5</td>\n",
       "      <td>5</td>\n",
       "    </tr>\n",
       "    <tr>\n",
       "      <th>33174</th>\n",
       "      <td>5</td>\n",
       "      <td>5</td>\n",
       "      <td>5</td>\n",
       "    </tr>\n",
       "    <tr>\n",
       "      <th>30076</th>\n",
       "      <td>5</td>\n",
       "      <td>4</td>\n",
       "      <td>5</td>\n",
       "    </tr>\n",
       "    <tr>\n",
       "      <th>330</th>\n",
       "      <td>5</td>\n",
       "      <td>5</td>\n",
       "      <td>5</td>\n",
       "    </tr>\n",
       "  </tbody>\n",
       "</table>\n",
       "<p>31820 rows × 3 columns</p>\n",
       "</div>"
      ],
      "text/plain": [
       "       depression_score  anxiety_score  stress_score\n",
       "2825                  5              5             5\n",
       "37286                 5              3             5\n",
       "21810                 4              4             4\n",
       "24101                 5              5             5\n",
       "25327                 4              3             4\n",
       "...                 ...            ...           ...\n",
       "16819                 4              4             5\n",
       "25137                 5              5             5\n",
       "33174                 5              5             5\n",
       "30076                 5              4             5\n",
       "330                   5              5             5\n",
       "\n",
       "[31820 rows x 3 columns]"
      ]
     },
     "execution_count": 59,
     "metadata": {},
     "output_type": "execute_result"
    }
   ],
   "source": [
    "train_data_scores"
   ]
  },
  {
   "cell_type": "code",
   "execution_count": 60,
   "metadata": {},
   "outputs": [
    {
     "name": "stderr",
     "output_type": "stream",
     "text": [
      "/var/folders/pd/hd4ggfd92s96hw2m79cprk4h0000gn/T/ipykernel_5303/4156877122.py:4: SettingWithCopyWarning: \n",
      "A value is trying to be set on a copy of a slice from a DataFrame.\n",
      "Try using .loc[row_indexer,col_indexer] = value instead\n",
      "\n",
      "See the caveats in the documentation: https://pandas.pydata.org/pandas-docs/stable/user_guide/indexing.html#returning-a-view-versus-a-copy\n",
      "  train_data_scores[\"depression_score\"] = le.fit_transform(train_data_scores[\"depression_score\"])\n",
      "/var/folders/pd/hd4ggfd92s96hw2m79cprk4h0000gn/T/ipykernel_5303/4156877122.py:5: SettingWithCopyWarning: \n",
      "A value is trying to be set on a copy of a slice from a DataFrame.\n",
      "Try using .loc[row_indexer,col_indexer] = value instead\n",
      "\n",
      "See the caveats in the documentation: https://pandas.pydata.org/pandas-docs/stable/user_guide/indexing.html#returning-a-view-versus-a-copy\n",
      "  train_data_scores[\"anxiety_score\"] = le.fit_transform(train_data_scores[\"anxiety_score\"])\n",
      "/var/folders/pd/hd4ggfd92s96hw2m79cprk4h0000gn/T/ipykernel_5303/4156877122.py:6: SettingWithCopyWarning: \n",
      "A value is trying to be set on a copy of a slice from a DataFrame.\n",
      "Try using .loc[row_indexer,col_indexer] = value instead\n",
      "\n",
      "See the caveats in the documentation: https://pandas.pydata.org/pandas-docs/stable/user_guide/indexing.html#returning-a-view-versus-a-copy\n",
      "  train_data_scores[\"stress_score\"] = le.fit_transform(train_data_scores[\"stress_score\"])\n"
     ]
    }
   ],
   "source": [
    "from sklearn.preprocessing import LabelEncoder\n",
    "\n",
    "le = LabelEncoder()\n",
    "train_data_scores[\"depression_score\"] = le.fit_transform(train_data_scores[\"depression_score\"])\n",
    "train_data_scores[\"anxiety_score\"] = le.fit_transform(train_data_scores[\"anxiety_score\"])\n",
    "train_data_scores[\"stress_score\"] = le.fit_transform(train_data_scores[\"stress_score\"])"
   ]
  },
  {
   "cell_type": "code",
   "execution_count": 61,
   "metadata": {},
   "outputs": [],
   "source": [
    "X = train_data.drop(scores, axis=1)"
   ]
  },
  {
   "cell_type": "code",
   "execution_count": 62,
   "metadata": {},
   "outputs": [
    {
     "name": "stdout",
     "output_type": "stream",
     "text": [
      "<class 'pandas.core.frame.DataFrame'>\n",
      "Index: 31820 entries, 2825 to 330\n",
      "Columns: 5393 entries, Q1A to major_zoology\n",
      "dtypes: bool(5308), int64(85)\n",
      "memory usage: 182.0 MB\n"
     ]
    }
   ],
   "source": [
    "X.info()"
   ]
  },
  {
   "cell_type": "code",
   "execution_count": 63,
   "metadata": {},
   "outputs": [],
   "source": [
    "depression_y = train_data_scores[\"depression_score\"]\n",
    "anxiety_y = train_data_scores[\"anxiety_score\"]\n",
    "stress_y = train_data_scores[\"stress_score\"]"
   ]
  },
  {
   "cell_type": "markdown",
   "metadata": {},
   "source": [
    "## For Predicting Depression"
   ]
  },
  {
   "cell_type": "code",
   "execution_count": 64,
   "metadata": {},
   "outputs": [
    {
     "data": {
      "text/plain": [
       "2825     2\n",
       "37286    2\n",
       "21810    1\n",
       "24101    2\n",
       "25327    1\n",
       "        ..\n",
       "16819    1\n",
       "25137    2\n",
       "33174    2\n",
       "30076    2\n",
       "330      2\n",
       "Name: depression_score, Length: 31820, dtype: int64"
      ]
     },
     "execution_count": 64,
     "metadata": {},
     "output_type": "execute_result"
    }
   ],
   "source": [
    "X\n",
    "depression_y"
   ]
  },
  {
   "cell_type": "code",
   "execution_count": 65,
   "metadata": {},
   "outputs": [],
   "source": [
    "from sklearn.model_selection import train_test_split\n",
    "\n",
    "X_train, X_test, depression_y_train, depression_y_test = train_test_split(X, depression_y, test_size=0.2, random_state=42)"
   ]
  },
  {
   "cell_type": "code",
   "execution_count": 66,
   "metadata": {},
   "outputs": [
    {
     "data": {
      "text/plain": [
       "0.9773727215587681"
      ]
     },
     "execution_count": 66,
     "metadata": {},
     "output_type": "execute_result"
    }
   ],
   "source": [
    "from sklearn.svm import LinearSVC\n",
    "\n",
    "clf = LinearSVC()\n",
    "\n",
    "clf.fit(X_train, depression_y_train)\n",
    "clf.score(X_test, depression_y_test)"
   ]
  },
  {
   "cell_type": "code",
   "execution_count": 67,
   "metadata": {},
   "outputs": [
    {
     "data": {
      "text/plain": [
       "array([0, 2, 2, 1, 2, 2, 2, 2, 2, 2])"
      ]
     },
     "execution_count": 67,
     "metadata": {},
     "output_type": "execute_result"
    }
   ],
   "source": [
    "depression_preds = clf.predict(X_test)\n",
    "depression_preds[:10]"
   ]
  },
  {
   "cell_type": "code",
   "execution_count": 68,
   "metadata": {},
   "outputs": [],
   "source": [
    "from sklearn.metrics import confusion_matrix, classification_report\n",
    "\n",
    "conf = confusion_matrix(depression_preds, depression_y_test)"
   ]
  },
  {
   "cell_type": "code",
   "execution_count": 69,
   "metadata": {},
   "outputs": [
    {
     "data": {
      "image/png": "[encoded data removed]",
      "text/plain": [
       "<Figure size 600x500 with 2 Axes>"
      ]
     },
     "metadata": {},
     "output_type": "display_data"
    }
   ],
   "source": [
    "plt.figure(figsize=(6, 5))\n",
    "sns.heatmap(conf, annot=True, fmt='d', cmap='Blues', xticklabels=[3,4,5], yticklabels=[3,4,5])\n",
    "plt.xlabel(\"Predicted Label\")\n",
    "plt.ylabel(\"True Label\")\n",
    "plt.title(\"Confusion Matrix Heatmap\")\n",
    "plt.show()"
   ]
  },
  {
   "cell_type": "code",
   "execution_count": 70,
   "metadata": {},
   "outputs": [
    {
     "name": "stdout",
     "output_type": "stream",
     "text": [
      "              precision    recall  f1-score   support\n",
      "\n",
      "           0       1.00      0.96      0.98       996\n",
      "           1       0.87      0.99      0.93       912\n",
      "           2       1.00      0.98      0.99      4456\n",
      "\n",
      "    accuracy                           0.98      6364\n",
      "   macro avg       0.96      0.98      0.96      6364\n",
      "weighted avg       0.98      0.98      0.98      6364\n",
      "\n"
     ]
    }
   ],
   "source": [
    "print(classification_report(depression_preds, depression_y_test))"
   ]
  },
  {
   "cell_type": "code",
   "execution_count": 71,
   "metadata": {},
   "outputs": [
    {
     "data": {
      "image/png": "[encoded data removed]",
      "text/plain": [
       "<Figure size 600x500 with 2 Axes>"
      ]
     },
     "metadata": {},
     "output_type": "display_data"
    },
    {
     "data": {
      "image/png": "[encoded data removed]",
      "text/plain": [
       "<Figure size 600x500 with 2 Axes>"
      ]
     },
     "metadata": {},
     "output_type": "display_data"
    },
    {
     "data": {
      "image/png": "[encoded data removed]",
      "text/plain": [
       "<Figure size 600x500 with 2 Axes>"
      ]
     },
     "metadata": {},
     "output_type": "display_data"
    },
    {
     "data": {
      "image/png": "[encoded data removed]",
      "text/plain": [
       "<Figure size 600x500 with 2 Axes>"
      ]
     },
     "metadata": {},
     "output_type": "display_data"
    },
    {
     "name": "stderr",
     "output_type": "stream",
     "text": [
      "/Users/aryanmanchanda/Projects/aura-check/.conda/lib/python3.11/site-packages/sklearn/linear_model/_logistic.py:469: ConvergenceWarning: lbfgs failed to converge (status=1):\n",
      "STOP: TOTAL NO. of ITERATIONS REACHED LIMIT.\n",
      "\n",
      "Increase the number of iterations (max_iter) or scale the data as shown in:\n",
      "    https://scikit-learn.org/stable/modules/preprocessing.html\n",
      "Please also refer to the documentation for alternative solver options:\n",
      "    https://scikit-learn.org/stable/modules/linear_model.html#logistic-regression\n",
      "  n_iter_i = _check_optimize_result(\n"
     ]
    },
    {
     "data": {
      "image/png": "[encoded data removed]",
      "text/plain": [
       "<Figure size 600x500 with 2 Axes>"
      ]
     },
     "metadata": {},
     "output_type": "display_data"
    }
   ],
   "source": [
    "from sklearn.svm import LinearSVC\n",
    "from sklearn.ensemble import RandomForestClassifier\n",
    "from sklearn.naive_bayes import GaussianNB\n",
    "from sklearn.neighbors import KNeighborsClassifier\n",
    "from sklearn.linear_model import LogisticRegression\n",
    "\n",
    "models = {\"Linear SVC\": LinearSVC(), \"Random Forest\": RandomForestClassifier(), \"Naive Bayes\": GaussianNB(), \"KNN\": KNeighborsClassifier(), \"Logistic Regression\": LogisticRegression()}\n",
    "model_scores = {}\n",
    "\n",
    "for name, model in  models.items():\n",
    "    model.fit(X_train, depression_y_train)\n",
    "    b = model.score(X_test, depression_y_test)\n",
    "    model_scores[name] = b\n",
    "    a = model.predict(X_test)\n",
    "    conf = confusion_matrix(a, depression_y_test)\n",
    "    plt.figure(figsize=(6, 5))\n",
    "    sns.heatmap(conf, annot=True, fmt='d', cmap='Blues', xticklabels=[3,4,5], yticklabels=[3,4,5])\n",
    "    plt.xlabel(\"Predicted Label\")\n",
    "    plt.ylabel(\"True Label\")\n",
    "    plt.title(f\"Confusion Matrix Heatmap for {name}\")\n",
    "    plt.show()"
   ]
  },
  {
   "cell_type": "code",
   "execution_count": 72,
   "metadata": {},
   "outputs": [
    {
     "data": {
      "text/plain": [
       "{'Linear SVC': 0.9773727215587681,\n",
       " 'Random Forest': 0.9132620993086109,\n",
       " 'Naive Bayes': 0.17677561282212445,\n",
       " 'KNN': 0.8214959145191704,\n",
       " 'Logistic Regression': 0.9307039597737272}"
      ]
     },
     "execution_count": 72,
     "metadata": {},
     "output_type": "execute_result"
    }
   ],
   "source": [
    "model_scores"
   ]
  },
  {
   "cell_type": "code",
   "execution_count": 73,
   "metadata": {},
   "outputs": [
    {
     "data": {
      "text/plain": [
       "0.9791011942174733"
      ]
     },
     "execution_count": 73,
     "metadata": {},
     "output_type": "execute_result"
    }
   ],
   "source": [
    "from xgboost import XGBClassifier\n",
    "\n",
    "xgc = XGBClassifier()\n",
    "xgc.fit(X_train, depression_y_train)\n",
    "xgc.score(X_test, depression_y_test)"
   ]
  },
  {
   "cell_type": "code",
   "execution_count": 74,
   "metadata": {},
   "outputs": [],
   "source": [
    "depression_preds_xgc = xgc.predict(X_test)"
   ]
  },
  {
   "cell_type": "code",
   "execution_count": 75,
   "metadata": {},
   "outputs": [
    {
     "data": {
      "image/png": "[encoded data removed]",
      "text/plain": [
       "<Figure size 600x500 with 2 Axes>"
      ]
     },
     "metadata": {},
     "output_type": "display_data"
    }
   ],
   "source": [
    "from sklearn.metrics import confusion_matrix, classification_report\n",
    "\n",
    "conf = confusion_matrix(y_pred=depression_preds_xgc, y_true=depression_y_test)\n",
    "plt.figure(figsize=(6, 5))\n",
    "sns.heatmap(conf, annot=True, fmt='d', cmap='Blues', xticklabels=[3,4,5], yticklabels=[3,4,5])\n",
    "plt.xlabel(\"Predicted Label\")\n",
    "plt.ylabel(\"True Label\")\n",
    "plt.title(\"Confusion Matrix Heatmap\")\n",
    "plt.show()"
   ]
  },
  {
   "cell_type": "code",
   "execution_count": 76,
   "metadata": {},
   "outputs": [
    {
     "name": "stdout",
     "output_type": "stream",
     "text": [
      "              precision    recall  f1-score   support\n",
      "\n",
      "           0       0.98      0.97      0.97       961\n",
      "           1       0.93      0.94      0.94      1042\n",
      "           2       0.99      0.99      0.99      4361\n",
      "\n",
      "    accuracy                           0.98      6364\n",
      "   macro avg       0.97      0.97      0.97      6364\n",
      "weighted avg       0.98      0.98      0.98      6364\n",
      "\n"
     ]
    }
   ],
   "source": [
    "print(classification_report(depression_y_test, depression_preds_xgc))"
   ]
  },
  {
   "cell_type": "code",
   "execution_count": 77,
   "metadata": {},
   "outputs": [],
   "source": [
    "import pickle\n",
    "\n",
    "pickle.dump(xgc, open(\"../models/xgc_model1_depression.pkl\", \"wb\"))"
   ]
  },
  {
   "cell_type": "markdown",
   "metadata": {},
   "source": [
    "## Anxiety Prediction"
   ]
  },
  {
   "cell_type": "code",
   "execution_count": 78,
   "metadata": {},
   "outputs": [
    {
     "data": {
      "text/plain": [
       "2825     2\n",
       "37286    0\n",
       "21810    1\n",
       "24101    2\n",
       "25327    0\n",
       "        ..\n",
       "16819    1\n",
       "25137    2\n",
       "33174    2\n",
       "30076    1\n",
       "330      2\n",
       "Name: anxiety_score, Length: 31820, dtype: int64"
      ]
     },
     "execution_count": 78,
     "metadata": {},
     "output_type": "execute_result"
    }
   ],
   "source": [
    "X\n",
    "anxiety_y"
   ]
  },
  {
   "cell_type": "code",
   "execution_count": 79,
   "metadata": {},
   "outputs": [],
   "source": [
    "from sklearn.model_selection import train_test_split\n",
    "\n",
    "X_train, X_test, anxiety_y_train, anxiety_y_test = train_test_split(X, anxiety_y, test_size=0.2)"
   ]
  },
  {
   "cell_type": "code",
   "execution_count": 80,
   "metadata": {},
   "outputs": [
    {
     "data": {
      "text/plain": [
       "0.9723444374607165"
      ]
     },
     "execution_count": 80,
     "metadata": {},
     "output_type": "execute_result"
    }
   ],
   "source": [
    "from xgboost import XGBClassifier\n",
    "\n",
    "xgc = XGBClassifier()\n",
    "xgc.fit(X_train, anxiety_y_train)\n",
    "xgc.score(X_test, anxiety_y_test)"
   ]
  },
  {
   "cell_type": "code",
   "execution_count": 81,
   "metadata": {},
   "outputs": [],
   "source": [
    "anxiety_preds = xgc.predict(X_test)"
   ]
  },
  {
   "cell_type": "code",
   "execution_count": 82,
   "metadata": {},
   "outputs": [
    {
     "data": {
      "image/png": "[encoded data removed]",
      "text/plain": [
       "<Figure size 600x500 with 2 Axes>"
      ]
     },
     "metadata": {},
     "output_type": "display_data"
    }
   ],
   "source": [
    "from sklearn.metrics import confusion_matrix, classification_report\n",
    "\n",
    "conf = confusion_matrix(anxiety_preds, anxiety_y_test)\n",
    "plt.figure(figsize=(6, 5))\n",
    "sns.heatmap(conf, annot=True, fmt='d', cmap='Blues', xticklabels=[3,4,5], yticklabels=[3,4,5])\n",
    "plt.xlabel(\"Predicted Label\")\n",
    "plt.ylabel(\"True Label\")\n",
    "plt.title(\"Confusion Matrix Heatmap\")\n",
    "plt.show()"
   ]
  },
  {
   "cell_type": "code",
   "execution_count": 83,
   "metadata": {},
   "outputs": [
    {
     "name": "stdout",
     "output_type": "stream",
     "text": [
      "              precision    recall  f1-score   support\n",
      "\n",
      "           0       0.98      0.98      0.98      1321\n",
      "           1       0.94      0.95      0.95      1618\n",
      "           2       0.99      0.98      0.98      3425\n",
      "\n",
      "    accuracy                           0.97      6364\n",
      "   macro avg       0.97      0.97      0.97      6364\n",
      "weighted avg       0.97      0.97      0.97      6364\n",
      "\n"
     ]
    }
   ],
   "source": [
    "print(classification_report(anxiety_y_test, anxiety_preds))"
   ]
  },
  {
   "cell_type": "code",
   "execution_count": 84,
   "metadata": {},
   "outputs": [],
   "source": [
    "import pickle\n",
    "\n",
    "pickle.dump(xgc, open(\"../models/xgc_model1_anxiety.pkl\", \"wb\"))"
   ]
  },
  {
   "cell_type": "markdown",
   "metadata": {},
   "source": [
    "## Stress Prediction"
   ]
  },
  {
   "cell_type": "code",
   "execution_count": 85,
   "metadata": {},
   "outputs": [
    {
     "data": {
      "text/plain": [
       "2825     2\n",
       "37286    2\n",
       "21810    1\n",
       "24101    2\n",
       "25327    1\n",
       "        ..\n",
       "16819    2\n",
       "25137    2\n",
       "33174    2\n",
       "30076    2\n",
       "330      2\n",
       "Name: stress_score, Length: 31820, dtype: int64"
      ]
     },
     "execution_count": 85,
     "metadata": {},
     "output_type": "execute_result"
    }
   ],
   "source": [
    "X\n",
    "stress_y"
   ]
  },
  {
   "cell_type": "code",
   "execution_count": 86,
   "metadata": {},
   "outputs": [],
   "source": [
    "from sklearn.model_selection import train_test_split\n",
    "\n",
    "X_train, X_test, stress_y_train, stress_y_test = train_test_split(X, stress_y, test_size=0.2)"
   ]
  },
  {
   "cell_type": "code",
   "execution_count": 87,
   "metadata": {},
   "outputs": [
    {
     "data": {
      "text/plain": [
       "0.9800439974858579"
      ]
     },
     "execution_count": 87,
     "metadata": {},
     "output_type": "execute_result"
    }
   ],
   "source": [
    "from xgboost import XGBClassifier\n",
    "\n",
    "xgc = XGBClassifier()\n",
    "xgc.fit(X_train, stress_y_train)\n",
    "xgc.score(X_test, stress_y_test)"
   ]
  },
  {
   "cell_type": "code",
   "execution_count": 88,
   "metadata": {},
   "outputs": [],
   "source": [
    "stress_preds = xgc.predict(X_test)"
   ]
  },
  {
   "cell_type": "code",
   "execution_count": 89,
   "metadata": {},
   "outputs": [
    {
     "data": {
      "image/png": "[encoded data removed]",
      "text/plain": [
       "<Figure size 600x500 with 2 Axes>"
      ]
     },
     "metadata": {},
     "output_type": "display_data"
    }
   ],
   "source": [
    "from sklearn.metrics import confusion_matrix, classification_report\n",
    "\n",
    "conf = confusion_matrix(stress_preds, stress_y_test)\n",
    "plt.figure(figsize=(6, 5))\n",
    "sns.heatmap(conf, annot=True, fmt='d', cmap='Blues', xticklabels=[3,4,5], yticklabels=[3,4,5])\n",
    "plt.xlabel(\"Predicted Label\")\n",
    "plt.ylabel(\"True Label\")\n",
    "plt.title(\"Confusion Matrix Heatmap\")\n",
    "plt.show()"
   ]
  },
  {
   "cell_type": "code",
   "execution_count": 90,
   "metadata": {},
   "outputs": [
    {
     "name": "stdout",
     "output_type": "stream",
     "text": [
      "              precision    recall  f1-score   support\n",
      "\n",
      "           0       0.97      0.95      0.96       606\n",
      "           1       0.93      0.95      0.94      1079\n",
      "           2       0.99      0.99      0.99      4679\n",
      "\n",
      "    accuracy                           0.98      6364\n",
      "   macro avg       0.97      0.96      0.96      6364\n",
      "weighted avg       0.98      0.98      0.98      6364\n",
      "\n"
     ]
    }
   ],
   "source": [
    "print(classification_report(stress_y_test, stress_preds))"
   ]
  },
  {
   "cell_type": "code",
   "execution_count": 91,
   "metadata": {},
   "outputs": [],
   "source": [
    "import pickle\n",
    "\n",
    "pickle.dump(xgc, open(\"../models/xgc_model1_stress.pkl\", \"wb\"))"
   ]
  },
  {
   "cell_type": "markdown",
   "metadata": {},
   "source": [
    "## Testing"
   ]
  },
  {
   "cell_type": "code",
   "execution_count": 27,
   "metadata": {},
   "outputs": [
    {
     "data": {
      "text/html": [
       "<div>\n",
       "<style scoped>\n",
       "    .dataframe tbody tr th:only-of-type {\n",
       "        vertical-align: middle;\n",
       "    }\n",
       "\n",
       "    .dataframe tbody tr th {\n",
       "        vertical-align: top;\n",
       "    }\n",
       "\n",
       "    .dataframe thead th {\n",
       "        text-align: right;\n",
       "    }\n",
       "</style>\n",
       "<table border=\"1\" class=\"dataframe\">\n",
       "  <thead>\n",
       "    <tr style=\"text-align: right;\">\n",
       "      <th></th>\n",
       "      <th>Q1A</th>\n",
       "      <th>Q2A</th>\n",
       "      <th>Q3A</th>\n",
       "      <th>Q4A</th>\n",
       "      <th>Q5A</th>\n",
       "      <th>Q6A</th>\n",
       "      <th>Q7A</th>\n",
       "      <th>Q8A</th>\n",
       "      <th>Q9A</th>\n",
       "      <th>Q10A</th>\n",
       "      <th>...</th>\n",
       "      <th>major_virology</th>\n",
       "      <th>major_visual arts</th>\n",
       "      <th>major_visual arts and culture</th>\n",
       "      <th>major_water engineering</th>\n",
       "      <th>major_web design</th>\n",
       "      <th>major_web development</th>\n",
       "      <th>major_writing</th>\n",
       "      <th>major_writing</th>\n",
       "      <th>major_yes</th>\n",
       "      <th>major_zoology</th>\n",
       "    </tr>\n",
       "  </thead>\n",
       "  <tbody>\n",
       "    <tr>\n",
       "      <th>8727</th>\n",
       "      <td>4</td>\n",
       "      <td>2</td>\n",
       "      <td>4</td>\n",
       "      <td>2</td>\n",
       "      <td>4</td>\n",
       "      <td>4</td>\n",
       "      <td>2</td>\n",
       "      <td>4</td>\n",
       "      <td>4</td>\n",
       "      <td>4</td>\n",
       "      <td>...</td>\n",
       "      <td>False</td>\n",
       "      <td>False</td>\n",
       "      <td>False</td>\n",
       "      <td>False</td>\n",
       "      <td>False</td>\n",
       "      <td>False</td>\n",
       "      <td>False</td>\n",
       "      <td>False</td>\n",
       "      <td>False</td>\n",
       "      <td>False</td>\n",
       "    </tr>\n",
       "    <tr>\n",
       "      <th>24487</th>\n",
       "      <td>2</td>\n",
       "      <td>1</td>\n",
       "      <td>2</td>\n",
       "      <td>1</td>\n",
       "      <td>4</td>\n",
       "      <td>2</td>\n",
       "      <td>1</td>\n",
       "      <td>1</td>\n",
       "      <td>1</td>\n",
       "      <td>1</td>\n",
       "      <td>...</td>\n",
       "      <td>False</td>\n",
       "      <td>False</td>\n",
       "      <td>False</td>\n",
       "      <td>False</td>\n",
       "      <td>False</td>\n",
       "      <td>False</td>\n",
       "      <td>False</td>\n",
       "      <td>False</td>\n",
       "      <td>False</td>\n",
       "      <td>False</td>\n",
       "    </tr>\n",
       "    <tr>\n",
       "      <th>19341</th>\n",
       "      <td>2</td>\n",
       "      <td>1</td>\n",
       "      <td>3</td>\n",
       "      <td>1</td>\n",
       "      <td>3</td>\n",
       "      <td>2</td>\n",
       "      <td>1</td>\n",
       "      <td>2</td>\n",
       "      <td>4</td>\n",
       "      <td>4</td>\n",
       "      <td>...</td>\n",
       "      <td>False</td>\n",
       "      <td>False</td>\n",
       "      <td>False</td>\n",
       "      <td>False</td>\n",
       "      <td>False</td>\n",
       "      <td>False</td>\n",
       "      <td>False</td>\n",
       "      <td>False</td>\n",
       "      <td>False</td>\n",
       "      <td>False</td>\n",
       "    </tr>\n",
       "    <tr>\n",
       "      <th>11205</th>\n",
       "      <td>2</td>\n",
       "      <td>1</td>\n",
       "      <td>1</td>\n",
       "      <td>1</td>\n",
       "      <td>2</td>\n",
       "      <td>1</td>\n",
       "      <td>1</td>\n",
       "      <td>1</td>\n",
       "      <td>1</td>\n",
       "      <td>2</td>\n",
       "      <td>...</td>\n",
       "      <td>False</td>\n",
       "      <td>False</td>\n",
       "      <td>False</td>\n",
       "      <td>False</td>\n",
       "      <td>False</td>\n",
       "      <td>False</td>\n",
       "      <td>False</td>\n",
       "      <td>False</td>\n",
       "      <td>False</td>\n",
       "      <td>False</td>\n",
       "    </tr>\n",
       "    <tr>\n",
       "      <th>10059</th>\n",
       "      <td>2</td>\n",
       "      <td>1</td>\n",
       "      <td>3</td>\n",
       "      <td>1</td>\n",
       "      <td>1</td>\n",
       "      <td>3</td>\n",
       "      <td>1</td>\n",
       "      <td>2</td>\n",
       "      <td>4</td>\n",
       "      <td>3</td>\n",
       "      <td>...</td>\n",
       "      <td>False</td>\n",
       "      <td>False</td>\n",
       "      <td>False</td>\n",
       "      <td>False</td>\n",
       "      <td>False</td>\n",
       "      <td>False</td>\n",
       "      <td>False</td>\n",
       "      <td>False</td>\n",
       "      <td>False</td>\n",
       "      <td>False</td>\n",
       "    </tr>\n",
       "    <tr>\n",
       "      <th>...</th>\n",
       "      <td>...</td>\n",
       "      <td>...</td>\n",
       "      <td>...</td>\n",
       "      <td>...</td>\n",
       "      <td>...</td>\n",
       "      <td>...</td>\n",
       "      <td>...</td>\n",
       "      <td>...</td>\n",
       "      <td>...</td>\n",
       "      <td>...</td>\n",
       "      <td>...</td>\n",
       "      <td>...</td>\n",
       "      <td>...</td>\n",
       "      <td>...</td>\n",
       "      <td>...</td>\n",
       "      <td>...</td>\n",
       "      <td>...</td>\n",
       "      <td>...</td>\n",
       "      <td>...</td>\n",
       "      <td>...</td>\n",
       "      <td>...</td>\n",
       "    </tr>\n",
       "    <tr>\n",
       "      <th>16657</th>\n",
       "      <td>4</td>\n",
       "      <td>3</td>\n",
       "      <td>4</td>\n",
       "      <td>4</td>\n",
       "      <td>4</td>\n",
       "      <td>4</td>\n",
       "      <td>4</td>\n",
       "      <td>4</td>\n",
       "      <td>4</td>\n",
       "      <td>3</td>\n",
       "      <td>...</td>\n",
       "      <td>False</td>\n",
       "      <td>False</td>\n",
       "      <td>False</td>\n",
       "      <td>False</td>\n",
       "      <td>False</td>\n",
       "      <td>False</td>\n",
       "      <td>False</td>\n",
       "      <td>False</td>\n",
       "      <td>False</td>\n",
       "      <td>False</td>\n",
       "    </tr>\n",
       "    <tr>\n",
       "      <th>17862</th>\n",
       "      <td>4</td>\n",
       "      <td>4</td>\n",
       "      <td>4</td>\n",
       "      <td>3</td>\n",
       "      <td>3</td>\n",
       "      <td>4</td>\n",
       "      <td>2</td>\n",
       "      <td>2</td>\n",
       "      <td>4</td>\n",
       "      <td>2</td>\n",
       "      <td>...</td>\n",
       "      <td>False</td>\n",
       "      <td>False</td>\n",
       "      <td>False</td>\n",
       "      <td>False</td>\n",
       "      <td>False</td>\n",
       "      <td>False</td>\n",
       "      <td>False</td>\n",
       "      <td>False</td>\n",
       "      <td>False</td>\n",
       "      <td>False</td>\n",
       "    </tr>\n",
       "    <tr>\n",
       "      <th>24259</th>\n",
       "      <td>3</td>\n",
       "      <td>4</td>\n",
       "      <td>3</td>\n",
       "      <td>2</td>\n",
       "      <td>2</td>\n",
       "      <td>2</td>\n",
       "      <td>2</td>\n",
       "      <td>2</td>\n",
       "      <td>4</td>\n",
       "      <td>2</td>\n",
       "      <td>...</td>\n",
       "      <td>False</td>\n",
       "      <td>False</td>\n",
       "      <td>False</td>\n",
       "      <td>False</td>\n",
       "      <td>False</td>\n",
       "      <td>False</td>\n",
       "      <td>False</td>\n",
       "      <td>False</td>\n",
       "      <td>False</td>\n",
       "      <td>False</td>\n",
       "    </tr>\n",
       "    <tr>\n",
       "      <th>32712</th>\n",
       "      <td>2</td>\n",
       "      <td>3</td>\n",
       "      <td>1</td>\n",
       "      <td>1</td>\n",
       "      <td>2</td>\n",
       "      <td>4</td>\n",
       "      <td>1</td>\n",
       "      <td>2</td>\n",
       "      <td>1</td>\n",
       "      <td>1</td>\n",
       "      <td>...</td>\n",
       "      <td>False</td>\n",
       "      <td>False</td>\n",
       "      <td>False</td>\n",
       "      <td>False</td>\n",
       "      <td>False</td>\n",
       "      <td>False</td>\n",
       "      <td>False</td>\n",
       "      <td>False</td>\n",
       "      <td>False</td>\n",
       "      <td>False</td>\n",
       "    </tr>\n",
       "    <tr>\n",
       "      <th>1698</th>\n",
       "      <td>1</td>\n",
       "      <td>1</td>\n",
       "      <td>1</td>\n",
       "      <td>2</td>\n",
       "      <td>1</td>\n",
       "      <td>1</td>\n",
       "      <td>2</td>\n",
       "      <td>3</td>\n",
       "      <td>1</td>\n",
       "      <td>1</td>\n",
       "      <td>...</td>\n",
       "      <td>False</td>\n",
       "      <td>False</td>\n",
       "      <td>False</td>\n",
       "      <td>False</td>\n",
       "      <td>False</td>\n",
       "      <td>False</td>\n",
       "      <td>False</td>\n",
       "      <td>False</td>\n",
       "      <td>False</td>\n",
       "      <td>False</td>\n",
       "    </tr>\n",
       "  </tbody>\n",
       "</table>\n",
       "<p>7955 rows × 5396 columns</p>\n",
       "</div>"
      ],
      "text/plain": [
       "       Q1A  Q2A  Q3A  Q4A  Q5A  Q6A  Q7A  Q8A  Q9A  Q10A  ...  major_virology  \\\n",
       "8727     4    2    4    2    4    4    2    4    4     4  ...           False   \n",
       "24487    2    1    2    1    4    2    1    1    1     1  ...           False   \n",
       "19341    2    1    3    1    3    2    1    2    4     4  ...           False   \n",
       "11205    2    1    1    1    2    1    1    1    1     2  ...           False   \n",
       "10059    2    1    3    1    1    3    1    2    4     3  ...           False   \n",
       "...    ...  ...  ...  ...  ...  ...  ...  ...  ...   ...  ...             ...   \n",
       "16657    4    3    4    4    4    4    4    4    4     3  ...           False   \n",
       "17862    4    4    4    3    3    4    2    2    4     2  ...           False   \n",
       "24259    3    4    3    2    2    2    2    2    4     2  ...           False   \n",
       "32712    2    3    1    1    2    4    1    2    1     1  ...           False   \n",
       "1698     1    1    1    2    1    1    2    3    1     1  ...           False   \n",
       "\n",
       "       major_visual arts  major_visual arts and culture  \\\n",
       "8727               False                          False   \n",
       "24487              False                          False   \n",
       "19341              False                          False   \n",
       "11205              False                          False   \n",
       "10059              False                          False   \n",
       "...                  ...                            ...   \n",
       "16657              False                          False   \n",
       "17862              False                          False   \n",
       "24259              False                          False   \n",
       "32712              False                          False   \n",
       "1698               False                          False   \n",
       "\n",
       "       major_water engineering  major_web design  major_web development  \\\n",
       "8727                     False             False                  False   \n",
       "24487                    False             False                  False   \n",
       "19341                    False             False                  False   \n",
       "11205                    False             False                  False   \n",
       "10059                    False             False                  False   \n",
       "...                        ...               ...                    ...   \n",
       "16657                    False             False                  False   \n",
       "17862                    False             False                  False   \n",
       "24259                    False             False                  False   \n",
       "32712                    False             False                  False   \n",
       "1698                     False             False                  False   \n",
       "\n",
       "       major_writing  major_writing   major_yes  major_zoology  \n",
       "8727           False           False      False          False  \n",
       "24487          False           False      False          False  \n",
       "19341          False           False      False          False  \n",
       "11205          False           False      False          False  \n",
       "10059          False           False      False          False  \n",
       "...              ...             ...        ...            ...  \n",
       "16657          False           False      False          False  \n",
       "17862          False           False      False          False  \n",
       "24259          False           False      False          False  \n",
       "32712          False           False      False          False  \n",
       "1698           False           False      False          False  \n",
       "\n",
       "[7955 rows x 5396 columns]"
      ]
     },
     "execution_count": 27,
     "metadata": {},
     "output_type": "execute_result"
    }
   ],
   "source": [
    "test_data"
   ]
  },
  {
   "cell_type": "code",
   "execution_count": 28,
   "metadata": {},
   "outputs": [],
   "source": [
    "X = test_data.drop(scores, axis=1)"
   ]
  },
  {
   "cell_type": "code",
   "execution_count": 29,
   "metadata": {},
   "outputs": [
    {
     "data": {
      "text/html": [
       "<div>\n",
       "<style scoped>\n",
       "    .dataframe tbody tr th:only-of-type {\n",
       "        vertical-align: middle;\n",
       "    }\n",
       "\n",
       "    .dataframe tbody tr th {\n",
       "        vertical-align: top;\n",
       "    }\n",
       "\n",
       "    .dataframe thead th {\n",
       "        text-align: right;\n",
       "    }\n",
       "</style>\n",
       "<table border=\"1\" class=\"dataframe\">\n",
       "  <thead>\n",
       "    <tr style=\"text-align: right;\">\n",
       "      <th></th>\n",
       "      <th>depression_score</th>\n",
       "      <th>anxiety_score</th>\n",
       "      <th>stress_score</th>\n",
       "    </tr>\n",
       "  </thead>\n",
       "  <tbody>\n",
       "    <tr>\n",
       "      <th>8727</th>\n",
       "      <td>5</td>\n",
       "      <td>5</td>\n",
       "      <td>5</td>\n",
       "    </tr>\n",
       "    <tr>\n",
       "      <th>24487</th>\n",
       "      <td>5</td>\n",
       "      <td>4</td>\n",
       "      <td>4</td>\n",
       "    </tr>\n",
       "    <tr>\n",
       "      <th>19341</th>\n",
       "      <td>5</td>\n",
       "      <td>4</td>\n",
       "      <td>5</td>\n",
       "    </tr>\n",
       "    <tr>\n",
       "      <th>11205</th>\n",
       "      <td>4</td>\n",
       "      <td>3</td>\n",
       "      <td>3</td>\n",
       "    </tr>\n",
       "    <tr>\n",
       "      <th>10059</th>\n",
       "      <td>5</td>\n",
       "      <td>4</td>\n",
       "      <td>5</td>\n",
       "    </tr>\n",
       "    <tr>\n",
       "      <th>...</th>\n",
       "      <td>...</td>\n",
       "      <td>...</td>\n",
       "      <td>...</td>\n",
       "    </tr>\n",
       "    <tr>\n",
       "      <th>16657</th>\n",
       "      <td>5</td>\n",
       "      <td>5</td>\n",
       "      <td>5</td>\n",
       "    </tr>\n",
       "    <tr>\n",
       "      <th>17862</th>\n",
       "      <td>5</td>\n",
       "      <td>5</td>\n",
       "      <td>5</td>\n",
       "    </tr>\n",
       "    <tr>\n",
       "      <th>24259</th>\n",
       "      <td>5</td>\n",
       "      <td>5</td>\n",
       "      <td>5</td>\n",
       "    </tr>\n",
       "    <tr>\n",
       "      <th>32712</th>\n",
       "      <td>3</td>\n",
       "      <td>4</td>\n",
       "      <td>5</td>\n",
       "    </tr>\n",
       "    <tr>\n",
       "      <th>1698</th>\n",
       "      <td>3</td>\n",
       "      <td>4</td>\n",
       "      <td>5</td>\n",
       "    </tr>\n",
       "  </tbody>\n",
       "</table>\n",
       "<p>7955 rows × 3 columns</p>\n",
       "</div>"
      ],
      "text/plain": [
       "       depression_score  anxiety_score  stress_score\n",
       "8727                  5              5             5\n",
       "24487                 5              4             4\n",
       "19341                 5              4             5\n",
       "11205                 4              3             3\n",
       "10059                 5              4             5\n",
       "...                 ...            ...           ...\n",
       "16657                 5              5             5\n",
       "17862                 5              5             5\n",
       "24259                 5              5             5\n",
       "32712                 3              4             5\n",
       "1698                  3              4             5\n",
       "\n",
       "[7955 rows x 3 columns]"
      ]
     },
     "execution_count": 29,
     "metadata": {},
     "output_type": "execute_result"
    }
   ],
   "source": [
    "test_data_scores = test_data[scores]\n",
    "test_data_scores"
   ]
  },
  {
   "cell_type": "code",
   "execution_count": 30,
   "metadata": {},
   "outputs": [
    {
     "name": "stderr",
     "output_type": "stream",
     "text": [
      "/var/folders/pd/hd4ggfd92s96hw2m79cprk4h0000gn/T/ipykernel_12594/308710127.py:4: SettingWithCopyWarning: \n",
      "A value is trying to be set on a copy of a slice from a DataFrame.\n",
      "Try using .loc[row_indexer,col_indexer] = value instead\n",
      "\n",
      "See the caveats in the documentation: https://pandas.pydata.org/pandas-docs/stable/user_guide/indexing.html#returning-a-view-versus-a-copy\n",
      "  test_data_scores[\"depression_score\"] = le.fit_transform(test_data_scores[\"depression_score\"])\n",
      "/var/folders/pd/hd4ggfd92s96hw2m79cprk4h0000gn/T/ipykernel_12594/308710127.py:5: SettingWithCopyWarning: \n",
      "A value is trying to be set on a copy of a slice from a DataFrame.\n",
      "Try using .loc[row_indexer,col_indexer] = value instead\n",
      "\n",
      "See the caveats in the documentation: https://pandas.pydata.org/pandas-docs/stable/user_guide/indexing.html#returning-a-view-versus-a-copy\n",
      "  test_data_scores[\"anxiety_score\"] = le.fit_transform(test_data_scores[\"anxiety_score\"])\n",
      "/var/folders/pd/hd4ggfd92s96hw2m79cprk4h0000gn/T/ipykernel_12594/308710127.py:6: SettingWithCopyWarning: \n",
      "A value is trying to be set on a copy of a slice from a DataFrame.\n",
      "Try using .loc[row_indexer,col_indexer] = value instead\n",
      "\n",
      "See the caveats in the documentation: https://pandas.pydata.org/pandas-docs/stable/user_guide/indexing.html#returning-a-view-versus-a-copy\n",
      "  test_data_scores[\"stress_score\"] = le.fit_transform(test_data_scores[\"stress_score\"])\n"
     ]
    }
   ],
   "source": [
    "from sklearn.preprocessing import LabelEncoder\n",
    "\n",
    "le = LabelEncoder()\n",
    "test_data_scores[\"depression_score\"] = le.fit_transform(test_data_scores[\"depression_score\"])\n",
    "test_data_scores[\"anxiety_score\"] = le.fit_transform(test_data_scores[\"anxiety_score\"])\n",
    "test_data_scores[\"stress_score\"] = le.fit_transform(test_data_scores[\"stress_score\"])"
   ]
  },
  {
   "cell_type": "code",
   "execution_count": 31,
   "metadata": {},
   "outputs": [
    {
     "data": {
      "text/html": [
       "<div>\n",
       "<style scoped>\n",
       "    .dataframe tbody tr th:only-of-type {\n",
       "        vertical-align: middle;\n",
       "    }\n",
       "\n",
       "    .dataframe tbody tr th {\n",
       "        vertical-align: top;\n",
       "    }\n",
       "\n",
       "    .dataframe thead th {\n",
       "        text-align: right;\n",
       "    }\n",
       "</style>\n",
       "<table border=\"1\" class=\"dataframe\">\n",
       "  <thead>\n",
       "    <tr style=\"text-align: right;\">\n",
       "      <th></th>\n",
       "      <th>depression_score</th>\n",
       "      <th>anxiety_score</th>\n",
       "      <th>stress_score</th>\n",
       "    </tr>\n",
       "  </thead>\n",
       "  <tbody>\n",
       "    <tr>\n",
       "      <th>8727</th>\n",
       "      <td>2</td>\n",
       "      <td>2</td>\n",
       "      <td>2</td>\n",
       "    </tr>\n",
       "    <tr>\n",
       "      <th>24487</th>\n",
       "      <td>2</td>\n",
       "      <td>1</td>\n",
       "      <td>1</td>\n",
       "    </tr>\n",
       "    <tr>\n",
       "      <th>19341</th>\n",
       "      <td>2</td>\n",
       "      <td>1</td>\n",
       "      <td>2</td>\n",
       "    </tr>\n",
       "    <tr>\n",
       "      <th>11205</th>\n",
       "      <td>1</td>\n",
       "      <td>0</td>\n",
       "      <td>0</td>\n",
       "    </tr>\n",
       "    <tr>\n",
       "      <th>10059</th>\n",
       "      <td>2</td>\n",
       "      <td>1</td>\n",
       "      <td>2</td>\n",
       "    </tr>\n",
       "    <tr>\n",
       "      <th>...</th>\n",
       "      <td>...</td>\n",
       "      <td>...</td>\n",
       "      <td>...</td>\n",
       "    </tr>\n",
       "    <tr>\n",
       "      <th>16657</th>\n",
       "      <td>2</td>\n",
       "      <td>2</td>\n",
       "      <td>2</td>\n",
       "    </tr>\n",
       "    <tr>\n",
       "      <th>17862</th>\n",
       "      <td>2</td>\n",
       "      <td>2</td>\n",
       "      <td>2</td>\n",
       "    </tr>\n",
       "    <tr>\n",
       "      <th>24259</th>\n",
       "      <td>2</td>\n",
       "      <td>2</td>\n",
       "      <td>2</td>\n",
       "    </tr>\n",
       "    <tr>\n",
       "      <th>32712</th>\n",
       "      <td>0</td>\n",
       "      <td>1</td>\n",
       "      <td>2</td>\n",
       "    </tr>\n",
       "    <tr>\n",
       "      <th>1698</th>\n",
       "      <td>0</td>\n",
       "      <td>1</td>\n",
       "      <td>2</td>\n",
       "    </tr>\n",
       "  </tbody>\n",
       "</table>\n",
       "<p>7955 rows × 3 columns</p>\n",
       "</div>"
      ],
      "text/plain": [
       "       depression_score  anxiety_score  stress_score\n",
       "8727                  2              2             2\n",
       "24487                 2              1             1\n",
       "19341                 2              1             2\n",
       "11205                 1              0             0\n",
       "10059                 2              1             2\n",
       "...                 ...            ...           ...\n",
       "16657                 2              2             2\n",
       "17862                 2              2             2\n",
       "24259                 2              2             2\n",
       "32712                 0              1             2\n",
       "1698                  0              1             2\n",
       "\n",
       "[7955 rows x 3 columns]"
      ]
     },
     "execution_count": 31,
     "metadata": {},
     "output_type": "execute_result"
    }
   ],
   "source": [
    "test_data_scores"
   ]
  },
  {
   "cell_type": "code",
   "execution_count": 32,
   "metadata": {},
   "outputs": [],
   "source": [
    "test_depression = test_data_scores[\"depression_score\"]\n",
    "test_anxiety = test_data_scores[\"anxiety_score\"]\n",
    "test_stress = test_data_scores[\"stress_score\"]"
   ]
  },
  {
   "cell_type": "code",
   "execution_count": 33,
   "metadata": {},
   "outputs": [],
   "source": [
    "import pickle\n",
    "\n",
    "model = pickle.load(open(\"../models/xgc_model1_anxiety.pkl\", 'rb'))"
   ]
  },
  {
   "cell_type": "code",
   "execution_count": 34,
   "metadata": {},
   "outputs": [],
   "source": [
    "test_preds_anxiety = model.predict(X)"
   ]
  },
  {
   "cell_type": "code",
   "execution_count": 35,
   "metadata": {},
   "outputs": [
    {
     "name": "stdout",
     "output_type": "stream",
     "text": [
      "              precision    recall  f1-score   support\n",
      "\n",
      "           0       0.99      0.99      0.99      1622\n",
      "           1       0.98      0.98      0.98      2078\n",
      "           2       1.00      0.99      0.99      4255\n",
      "\n",
      "    accuracy                           0.99      7955\n",
      "   macro avg       0.99      0.99      0.99      7955\n",
      "weighted avg       0.99      0.99      0.99      7955\n",
      "\n",
      "0.9839964452052146\n"
     ]
    }
   ],
   "source": [
    "from sklearn.metrics import confusion_matrix, classification_report, matthews_corrcoef\n",
    "\n",
    "print(classification_report(test_anxiety, test_preds_anxiety))\n",
    "print(matthews_corrcoef(y_true=test_anxiety, y_pred=test_preds_anxiety))"
   ]
  },
  {
   "cell_type": "code",
   "execution_count": 101,
   "metadata": {},
   "outputs": [
    {
     "data": {
      "image/png": "[encoded data removed]",
      "text/plain": [
       "<Figure size 600x500 with 2 Axes>"
      ]
     },
     "metadata": {},
     "output_type": "display_data"
    }
   ],
   "source": [
    "conf = confusion_matrix(y_true=test_anxiety, y_pred=test_preds_anxiety)\n",
    "plt.figure(figsize=(6, 5))\n",
    "sns.heatmap(conf, annot=True, fmt='d', cmap='Blues', xticklabels=[3,4,5], yticklabels=[3,4,5])\n",
    "plt.xlabel(\"Predicted Label\")\n",
    "plt.ylabel(\"True Label\")\n",
    "plt.title(\"Confusion Matrix Heatmap\")\n",
    "plt.show()"
   ]
  },
  {
   "cell_type": "code",
   "execution_count": 40,
   "metadata": {},
   "outputs": [
    {
     "name": "stdout",
     "output_type": "stream",
     "text": [
      "              precision    recall  f1-score   support\n",
      "\n",
      "           0       0.99      0.99      0.99      1259\n",
      "           1       0.98      0.98      0.98      1328\n",
      "           2       1.00      1.00      1.00      5368\n",
      "\n",
      "    accuracy                           0.99      7955\n",
      "   macro avg       0.99      0.99      0.99      7955\n",
      "weighted avg       0.99      0.99      0.99      7955\n",
      "\n",
      "\n",
      "0.9879794870927116\n",
      "\n"
     ]
    },
    {
     "data": {
      "image/png": "[encoded data removed]",
      "text/plain": [
       "<Figure size 600x500 with 2 Axes>"
      ]
     },
     "metadata": {},
     "output_type": "display_data"
    }
   ],
   "source": [
    "import pickle\n",
    "\n",
    "model = pickle.load(open(\"../models/xgc_model1_depression.pkl\", 'rb'))\n",
    "\n",
    "test_preds_depression = model.predict(X)\n",
    "\n",
    "from sklearn.metrics import confusion_matrix, classification_report, matthews_corrcoef\n",
    "\n",
    "print(classification_report(test_depression, test_preds_depression))\n",
    "print()\n",
    "print(matthews_corrcoef(y_true=test_depression, y_pred=test_preds_depression))\n",
    "print()\n",
    "conf = confusion_matrix(y_true=test_depression, y_pred=test_preds_depression)\n",
    "plt.figure(figsize=(6, 5))\n",
    "sns.heatmap(conf, annot=True, fmt='d', cmap='Blues', xticklabels=[3,4,5], yticklabels=[3,4,5])\n",
    "plt.xlabel(\"Predicted Label\")\n",
    "plt.ylabel(\"True Label\")\n",
    "plt.title(\"Confusion Matrix Heatmap\")\n",
    "plt.show()"
   ]
  },
  {
   "cell_type": "code",
   "execution_count": 37,
   "metadata": {},
   "outputs": [
    {
     "name": "stdout",
     "output_type": "stream",
     "text": [
      "              precision    recall  f1-score   support\n",
      "\n",
      "           0       0.98      0.99      0.98       759\n",
      "           1       0.98      0.98      0.98      1379\n",
      "           2       1.00      1.00      1.00      5817\n",
      "\n",
      "    accuracy                           0.99      7955\n",
      "   macro avg       0.98      0.99      0.99      7955\n",
      "weighted avg       0.99      0.99      0.99      7955\n",
      "\n",
      "\n",
      "0.9823431267926535\n",
      "\n"
     ]
    },
    {
     "data": {
      "image/png": "[encoded data removed]",
      "text/plain": [
       "<Figure size 600x500 with 2 Axes>"
      ]
     },
     "metadata": {},
     "output_type": "display_data"
    }
   ],
   "source": [
    "import pickle\n",
    "\n",
    "model = pickle.load(open(\"../models/xgc_model1_stress.pkl\", 'rb'))\n",
    "\n",
    "test_preds_stress = model.predict(X)\n",
    "\n",
    "from sklearn.metrics import confusion_matrix, classification_report, matthews_corrcoef\n",
    "\n",
    "print(classification_report(test_stress, test_preds_stress))\n",
    "print()\n",
    "print(matthews_corrcoef(y_true=test_stress, y_pred=test_preds_stress))\n",
    "print()\n",
    "conf = confusion_matrix(y_true=test_stress, y_pred=test_preds_stress)\n",
    "plt.figure(figsize=(6, 5))\n",
    "sns.heatmap(conf, annot=True, fmt='d', cmap='Blues', xticklabels=[3,4,5], yticklabels=[3,4,5])\n",
    "plt.xlabel(\"Predicted Label\")\n",
    "plt.ylabel(\"True Label\")\n",
    "plt.title(\"Confusion Matrix Heatmap\")\n",
    "plt.show()"
   ]
  },
  {
   "cell_type": "code",
   "execution_count": null,
   "metadata": {},
   "outputs": [],
   "source": []
  }
 ],
 "metadata": {
  "kernelspec": {
   "display_name": ".conda",
   "language": "python",
   "name": "python3"
  },
  "language_info": {
   "codemirror_mode": {
    "name": "ipython",
    "version": 3
   },
   "file_extension": ".py",
   "mimetype": "text/x-python",
   "name": "python",
   "nbconvert_exporter": "python",
   "pygments_lexer": "ipython3",
   "version": "3.11.11"
  }
 },
 "nbformat": 4,
 "nbformat_minor": 2
}
